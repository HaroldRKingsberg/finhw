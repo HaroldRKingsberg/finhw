{
 "cells": [
  {
   "cell_type": "code",
   "execution_count": 36,
   "metadata": {},
   "outputs": [],
   "source": [
    "import datetime\n",
    "import fmt\n",
    "import inst\n",
    "import lin\n",
    "import matplotlib.pyplot as plt\n",
    "import numpy as np\n",
    "import pandas as pd\n",
    "\n",
    "from swap import Swap, priceSwap"
   ]
  },
  {
   "cell_type": "markdown",
   "metadata": {},
   "source": [
    "# Problem 1\n",
    "Using the provided historical CMT dataset and assuming the following zero rate term structure and assuming all rates are continuously compounding"
   ]
  },
  {
   "cell_type": "code",
   "execution_count": 2,
   "metadata": {},
   "outputs": [],
   "source": [
    "cmturl = \"https://raw.githubusercontent.com/yadongli/nyumath2048/master/data/cmt.csv\"\n",
    "cmt_rates = pd.read_csv(cmturl, parse_dates=[0], index_col=[0])*.01\n",
    "cmt_rates.to_csv('cmt_rates.csv')"
   ]
  },
  {
   "cell_type": "code",
   "execution_count": 3,
   "metadata": {},
   "outputs": [
    {
     "data": {
      "text/html": [
       "<center><font size=2><table border=\"1\" class=\"dataframe\">\n",
       "  <thead>\n",
       "    <tr style=\"text-align: right;\">\n",
       "      <th></th>\n",
       "      <th>0.25</th>\n",
       "      <th>0.5</th>\n",
       "      <th>1.0</th>\n",
       "      <th>2.0</th>\n",
       "      <th>3.0</th>\n",
       "      <th>5.0</th>\n",
       "      <th>7.0</th>\n",
       "      <th>10.0</th>\n",
       "      <th>20.0</th>\n",
       "    </tr>\n",
       "  </thead>\n",
       "  <tbody>\n",
       "    <tr>\n",
       "      <th>Zero Rate (%)</th>\n",
       "      <td>0.01</td>\n",
       "      <td>0.1</td>\n",
       "      <td>0.26</td>\n",
       "      <td>0.73</td>\n",
       "      <td>1.19</td>\n",
       "      <td>1.75</td>\n",
       "      <td>2.07</td>\n",
       "      <td>2.25</td>\n",
       "      <td>2.54</td>\n",
       "    </tr>\n",
       "  </tbody>\n",
       "</table></font></center>"
      ],
      "text/plain": [
       "<IPython.core.display.HTML object>"
      ]
     },
     "metadata": {},
     "output_type": "display_data"
    }
   ],
   "source": [
    "cmt_rates = pd.read_csv('cmt_rates.csv').set_index('Unnamed: 0')\n",
    "t = np.array(list(map(float, cmt_rates.columns)))\n",
    "r = cmt_rates.iloc[-1, :].values\n",
    "\n",
    "fmt.displayDF(pd.DataFrame(r, index=t, columns=['Zero Rate (%)']).T*100, fmt=\"4g\")\n"
   ]
  },
  {
   "cell_type": "markdown",
   "metadata": {},
   "source": [
    "Hints\n",
    "* you can use the swap.py library from last homework to price swaps.\n",
    "* please pay attention to the compounding, there are multiple compounding in this problem: all the zero rates are continuously compounded, the swaps pays coupon semi-annually, therefore the par swap quotes should be computed using the correct coupon frequency. The first deposit is quoted by yield (zero rate), which is countinuously compounded.\n",
    "* The 3M deposit is equivalent to a 3M swap in risk profile, therefore, you may replace the 3M deposit by a quarterly par swap maturing at 3M as the first benchmark instruments during the bootstrap. It may ease the coding, as you can re-use the same swap pricer. But beware the par swap rate is different from continuous compounded zero rate, thus a proper conversion is required."
   ]
  },
  {
   "cell_type": "markdown",
   "metadata": {},
   "source": [
    "##  Part 1\n",
    "Use the tension spline routine from previoius homework to build a tension spline of zero rate term structure $r(t)$ with $\\lambda = 5$, you can assume $r(0) = 0$ if needed. Note that we are interpolating the zero rate instead of the cumulative yield here."
   ]
  },
  {
   "cell_type": "code",
   "execution_count": 7,
   "metadata": {},
   "outputs": [
    {
     "data": {
      "text/html": [
       "<center><font size=2><table border=\"1\" class=\"dataframe\">\n",
       "  <thead>\n",
       "    <tr style=\"text-align: right;\">\n",
       "      <th></th>\n",
       "      <th>0</th>\n",
       "      <th>1</th>\n",
       "    </tr>\n",
       "  </thead>\n",
       "  <tbody>\n",
       "    <tr>\n",
       "      <th>0</th>\n",
       "      <td>0.2500</td>\n",
       "      <td>1.0000</td>\n",
       "    </tr>\n",
       "    <tr>\n",
       "      <th>1</th>\n",
       "      <td>0.5000</td>\n",
       "      <td>0.9995</td>\n",
       "    </tr>\n",
       "    <tr>\n",
       "      <th>2</th>\n",
       "      <td>1.0000</td>\n",
       "      <td>0.9974</td>\n",
       "    </tr>\n",
       "    <tr>\n",
       "      <th>3</th>\n",
       "      <td>2.0000</td>\n",
       "      <td>0.9855</td>\n",
       "    </tr>\n",
       "    <tr>\n",
       "      <th>4</th>\n",
       "      <td>3.0000</td>\n",
       "      <td>0.9649</td>\n",
       "    </tr>\n",
       "    <tr>\n",
       "      <th>5</th>\n",
       "      <td>5.0000</td>\n",
       "      <td>0.9162</td>\n",
       "    </tr>\n",
       "    <tr>\n",
       "      <th>6</th>\n",
       "      <td>7.0000</td>\n",
       "      <td>0.8651</td>\n",
       "    </tr>\n",
       "    <tr>\n",
       "      <th>7</th>\n",
       "      <td>10.0000</td>\n",
       "      <td>0.7985</td>\n",
       "    </tr>\n",
       "    <tr>\n",
       "      <th>8</th>\n",
       "      <td>20.0000</td>\n",
       "      <td>0.6017</td>\n",
       "    </tr>\n",
       "  </tbody>\n",
       "</table></font></center>"
      ],
      "text/plain": [
       "<IPython.core.display.HTML object>"
      ]
     },
     "metadata": {},
     "output_type": "display_data"
    },
    {
     "data": {
      "image/png": "[encoded data removed]",
      "text/plain": [
       "<matplotlib.figure.Figure at 0x1c3b1ff4da0>"
      ]
     },
     "metadata": {},
     "output_type": "display_data"
    },
    {
     "data": {
      "image/png": "[encoded data removed]",
      "text/plain": [
       "<matplotlib.figure.Figure at 0x1c3b41ecb00>"
      ]
     },
     "metadata": {},
     "output_type": "display_data"
    }
   ],
   "source": [
    "lbd = 5.\n",
    "zero_curve = lin.RationalTension(lbd)\n",
    "build_t = np.append(np.array([0]), t)\n",
    "build_r = np.append(np.array([0]), r)\n",
    "zero_curve.build(build_t, build_r)\n",
    "t1d = np.arange(0.25, 21, 0.1)\n",
    "\n",
    "f = plt.figure()\n",
    "s = f.add_subplot('111')\n",
    "s.plot(t1d, zero_curve(t1d), 'b-', build_t, build_r, 'ro')\n",
    "plt.title('Zero Rates Interpolated');\n",
    "\n",
    "f = plt.figure()\n",
    "s = f.add_subplot('111')\n",
    "s.plot(t1d, np.exp(-zero_curve(t1d) * t1d))\n",
    "plt.title(\"Interpolated Discount Factors\");\n",
    "calculated_discount_factors = np.exp(-zero_curve(t) * t)\n",
    "fmt.displayDF(pd.DataFrame(np.array([t, calculated_discount_factors]).T))"
   ]
  },
  {
   "cell_type": "markdown",
   "metadata": {},
   "source": [
    "## Part 2\n",
    "Suppose the liquid market securities (the benchmarks) are 3M deposit (equivalent to zero coupon bond), and swaps paying semi-annual coupons with maturities matching the CMT quotes tenors;  use the curve you built to price these benchmark securities, assuming the deposits are quoted by the continous yield (zero rate) and swaps are quoted in break even spreads (par swap spreads)."
   ]
  },
  {
   "cell_type": "code",
   "execution_count": 8,
   "metadata": {},
   "outputs": [
    {
     "data": {
      "text/html": [
       "<center><font size=2><table border=\"1\" class=\"dataframe\">\n",
       "  <thead>\n",
       "    <tr style=\"text-align: right;\">\n",
       "      <th></th>\n",
       "      <th>Term</th>\n",
       "      <th>Par Rate</th>\n",
       "    </tr>\n",
       "  </thead>\n",
       "  <tbody>\n",
       "    <tr>\n",
       "      <th>0</th>\n",
       "      <td>0.2500</td>\n",
       "      <td>0.0100</td>\n",
       "    </tr>\n",
       "    <tr>\n",
       "      <th>1</th>\n",
       "      <td>0.5000</td>\n",
       "      <td>0.1000</td>\n",
       "    </tr>\n",
       "    <tr>\n",
       "      <th>2</th>\n",
       "      <td>1.0000</td>\n",
       "      <td>0.2601</td>\n",
       "    </tr>\n",
       "    <tr>\n",
       "      <th>3</th>\n",
       "      <td>2.0000</td>\n",
       "      <td>0.7292</td>\n",
       "    </tr>\n",
       "    <tr>\n",
       "      <th>4</th>\n",
       "      <td>3.0000</td>\n",
       "      <td>1.1856</td>\n",
       "    </tr>\n",
       "    <tr>\n",
       "      <th>5</th>\n",
       "      <td>5.0000</td>\n",
       "      <td>1.7350</td>\n",
       "    </tr>\n",
       "    <tr>\n",
       "      <th>6</th>\n",
       "      <td>7.0000</td>\n",
       "      <td>2.0444</td>\n",
       "    </tr>\n",
       "    <tr>\n",
       "      <th>7</th>\n",
       "      <td>10.0000</td>\n",
       "      <td>2.2200</td>\n",
       "    </tr>\n",
       "    <tr>\n",
       "      <th>8</th>\n",
       "      <td>20.0000</td>\n",
       "      <td>2.4884</td>\n",
       "    </tr>\n",
       "  </tbody>\n",
       "</table></font></center>"
      ],
      "text/plain": [
       "<IPython.core.display.HTML object>"
      ]
     },
     "metadata": {},
     "output_type": "display_data"
    },
    {
     "data": {
      "image/png": "[encoded data removed]",
      "text/plain": [
       "<matplotlib.figure.Figure at 0x1c3b200bb38>"
      ]
     },
     "metadata": {},
     "output_type": "display_data"
    }
   ],
   "source": [
    "def get_par_from_zero(swap_freq, zero_rate_curve, swap_maturity):\n",
    "    swap_freq = 2 if swap_maturity >= 0.5 else 4\n",
    "    ts = np.arange(1./swap_freq, swap_maturity + 1e-6, 1./swap_freq)\n",
    "    non_exp = zero_curve(ts)*ts\n",
    "    disc = np.exp(-non_exp)\n",
    "    pv01 = np.sum(disc)/swap_freq\n",
    "    par = (1.-disc[-1])/pv01\n",
    "    return par\n",
    "\n",
    "pars = np.array([get_par_from_zero(2, zero_curve, term) for term in t])\n",
    "par_table = pd.DataFrame([t, pars*100], index=['Term', 'Par Rate']).T\n",
    "fmt.displayDF(par_table)\n",
    "f = plt.figure()\n",
    "s = f.add_subplot('111')\n",
    "s.plot(t, pars);\n",
    "plt.title('Par Rates');\n",
    "plt.xlabel('Term');"
   ]
  },
  {
   "cell_type": "markdown",
   "metadata": {},
   "source": [
    "## Part 3\n",
    "use your bootstrap functions from the previous homework/lecture to bootstrap the zero rate curve from benchmark quotes from #2, show that the resulting curve is identical to the curve from #1. "
   ]
  },
  {
   "cell_type": "code",
   "execution_count": 10,
   "metadata": {},
   "outputs": [
    {
     "data": {
      "text/html": [
       "<center><font size=2><table border=\"1\" class=\"dataframe\">\n",
       "  <thead>\n",
       "    <tr style=\"text-align: right;\">\n",
       "      <th></th>\n",
       "      <th>Bootstrapped Discount Factor</th>\n",
       "      <th>Original Discount Factor</th>\n",
       "    </tr>\n",
       "    <tr>\n",
       "      <th>Term</th>\n",
       "      <th></th>\n",
       "      <th></th>\n",
       "    </tr>\n",
       "  </thead>\n",
       "  <tbody>\n",
       "    <tr>\n",
       "      <th>0.2500</th>\n",
       "      <td>1.0000</td>\n",
       "      <td>1.0000</td>\n",
       "    </tr>\n",
       "    <tr>\n",
       "      <th>0.5000</th>\n",
       "      <td>0.9995</td>\n",
       "      <td>0.9995</td>\n",
       "    </tr>\n",
       "    <tr>\n",
       "      <th>1.0000</th>\n",
       "      <td>0.9974</td>\n",
       "      <td>0.9974</td>\n",
       "    </tr>\n",
       "    <tr>\n",
       "      <th>2.0000</th>\n",
       "      <td>0.9855</td>\n",
       "      <td>0.9855</td>\n",
       "    </tr>\n",
       "    <tr>\n",
       "      <th>3.0000</th>\n",
       "      <td>0.9649</td>\n",
       "      <td>0.9649</td>\n",
       "    </tr>\n",
       "    <tr>\n",
       "      <th>5.0000</th>\n",
       "      <td>0.9162</td>\n",
       "      <td>0.9162</td>\n",
       "    </tr>\n",
       "    <tr>\n",
       "      <th>7.0000</th>\n",
       "      <td>0.8652</td>\n",
       "      <td>0.8651</td>\n",
       "    </tr>\n",
       "    <tr>\n",
       "      <th>10.0000</th>\n",
       "      <td>0.7986</td>\n",
       "      <td>0.7985</td>\n",
       "    </tr>\n",
       "    <tr>\n",
       "      <th>20.0000</th>\n",
       "      <td>0.6015</td>\n",
       "      <td>0.6017</td>\n",
       "    </tr>\n",
       "  </tbody>\n",
       "</table></font></center>"
      ],
      "text/plain": [
       "<IPython.core.display.HTML object>"
      ]
     },
     "metadata": {},
     "output_type": "display_data"
    },
    {
     "data": {
      "text/html": [
       "<center><font size=2><table border=\"1\" class=\"dataframe\">\n",
       "  <thead>\n",
       "    <tr style=\"text-align: right;\">\n",
       "      <th></th>\n",
       "      <th>Bootstrapped Zero Rate</th>\n",
       "      <th>Original Zero Rate</th>\n",
       "    </tr>\n",
       "    <tr>\n",
       "      <th>Term</th>\n",
       "      <th></th>\n",
       "      <th></th>\n",
       "    </tr>\n",
       "  </thead>\n",
       "  <tbody>\n",
       "    <tr>\n",
       "      <th>0.2500</th>\n",
       "      <td>0.0001</td>\n",
       "      <td>0.0001</td>\n",
       "    </tr>\n",
       "    <tr>\n",
       "      <th>0.5000</th>\n",
       "      <td>0.0010</td>\n",
       "      <td>0.0010</td>\n",
       "    </tr>\n",
       "    <tr>\n",
       "      <th>1.0000</th>\n",
       "      <td>0.0026</td>\n",
       "      <td>0.0026</td>\n",
       "    </tr>\n",
       "    <tr>\n",
       "      <th>2.0000</th>\n",
       "      <td>0.0073</td>\n",
       "      <td>0.0073</td>\n",
       "    </tr>\n",
       "    <tr>\n",
       "      <th>3.0000</th>\n",
       "      <td>0.0119</td>\n",
       "      <td>0.0119</td>\n",
       "    </tr>\n",
       "    <tr>\n",
       "      <th>5.0000</th>\n",
       "      <td>0.0175</td>\n",
       "      <td>0.0175</td>\n",
       "    </tr>\n",
       "    <tr>\n",
       "      <th>7.0000</th>\n",
       "      <td>0.0207</td>\n",
       "      <td>0.0207</td>\n",
       "    </tr>\n",
       "    <tr>\n",
       "      <th>10.0000</th>\n",
       "      <td>0.0225</td>\n",
       "      <td>0.0225</td>\n",
       "    </tr>\n",
       "    <tr>\n",
       "      <th>20.0000</th>\n",
       "      <td>0.0254</td>\n",
       "      <td>0.0254</td>\n",
       "    </tr>\n",
       "  </tbody>\n",
       "</table></font></center>"
      ],
      "text/plain": [
       "<IPython.core.display.HTML object>"
      ]
     },
     "metadata": {},
     "output_type": "display_data"
    },
    {
     "data": {
      "image/png": "[encoded data removed]",
      "text/plain": [
       "<matplotlib.figure.Figure at 0x1c3b200bba8>"
      ]
     },
     "metadata": {},
     "output_type": "display_data"
    },
    {
     "data": {
      "image/png": "[encoded data removed]",
      "text/plain": [
       "<matplotlib.figure.Figure at 0x1c3b4367048>"
      ]
     },
     "metadata": {},
     "output_type": "display_data"
    }
   ],
   "source": [
    "def y2pv(swap, curve):\n",
    "    discf = lambda ts: np.exp(-curve(ts)*ts)\n",
    "    return priceSwap(swap, curve)\n",
    "\n",
    "\n",
    "bm_swaps = {Swap(m, c, 4 if i==0 else 2): 0 for i, (m, c) in enumerate(zip(t, pars))}\n",
    "bootstrapped, e = inst.iterboot(bm_swaps, y2pv, lbd=5, x0=0, bds=[-1, 2], make_curve=lin.RationalTension, its=10)\n",
    "fmt.displayDF(pd.DataFrame(np.array([t, bootstrapped(t), calculated_discount_factors]).T, columns=['Term', 'Bootstrapped Discount Factor', 'Original Discount Factor']).set_index('Term'))\n",
    "\n",
    "fmt.displayDF(pd.DataFrame(np.array([t, -t**(-1) * np.log(bootstrapped(t)), r]).T, columns=['Term', 'Bootstrapped Zero Rate', 'Original Zero Rate']).set_index('Term'))\n",
    "\n",
    "\n",
    "f = plt.figure()\n",
    "s = f.add_subplot('111')\n",
    "s.plot(t1d, bootstrapped(t1d), 'b-', label='Bootstrapped')\n",
    "s.plot(t, calculated_discount_factors, 'ro', label='Original')\n",
    "plt.title('Comparison of Discount Factors')\n",
    "plt.legend()\n",
    "\n",
    "f = plt.figure()\n",
    "s = f.add_subplot('111')\n",
    "s.plot(t1d, -t1d**(-1) * np.log(bootstrapped(t1d)), 'b-', label='Bootstrapped')\n",
    "s.plot(t, zero_curve(t), 'ro', label='Original')\n",
    "plt.title('Comparison of Zero Rates')\n",
    "plt.legend();\n"
   ]
  },
  {
   "cell_type": "markdown",
   "metadata": {},
   "source": [
    "So as we can see here, although these are not _identical_ figures, there is a minimal degree of error present, with only the 7Y, 10Y and 20Y terms showing any error in the fourth significant digit, and the others not even showing that much error. The only disquieting aspect is the spike in the discount factor graph."
   ]
  },
  {
   "cell_type": "markdown",
   "metadata": {},
   "source": [
    "## Part 4\n",
    "You have an aged receiver swap (receiving fixed) on the book with $100M notional, 6Y of remaining maturity and 5% semi-annual fixed coupon. Compute its deltas and hedge notionals to the benchmark instruments by bumping the market quotes of benchmark instruments (ie, deposit and swaps) and re-bootstrapping the IR curve, record the computation time for hedge notionals."
   ]
  },
  {
   "cell_type": "code",
   "execution_count": 42,
   "metadata": {},
   "outputs": [
    {
     "data": {
      "text/html": [
       "<center><font size=2><table border=\"1\" class=\"dataframe\">\n",
       "  <thead>\n",
       "    <tr style=\"text-align: right;\">\n",
       "      <th></th>\n",
       "      <th>$T_q$</th>\n",
       "      <th>$\\partial v / \\partial q$</th>\n",
       "    </tr>\n",
       "  </thead>\n",
       "  <tbody>\n",
       "    <tr>\n",
       "      <th>0</th>\n",
       "      <td>0.2500</td>\n",
       "      <td>-15,408.4775</td>\n",
       "    </tr>\n",
       "    <tr>\n",
       "      <th>1</th>\n",
       "      <td>0.5000</td>\n",
       "      <td>-1,708,299.2446</td>\n",
       "    </tr>\n",
       "    <tr>\n",
       "      <th>2</th>\n",
       "      <td>1.0000</td>\n",
       "      <td>-5,913,488.1458</td>\n",
       "    </tr>\n",
       "    <tr>\n",
       "      <th>3</th>\n",
       "      <td>2.0000</td>\n",
       "      <td>-15,120,611.7803</td>\n",
       "    </tr>\n",
       "    <tr>\n",
       "      <th>4</th>\n",
       "      <td>3.0000</td>\n",
       "      <td>-24,016,952.8148</td>\n",
       "    </tr>\n",
       "    <tr>\n",
       "      <th>5</th>\n",
       "      <td>5.0000</td>\n",
       "      <td>-336,667,445.7607</td>\n",
       "    </tr>\n",
       "    <tr>\n",
       "      <th>6</th>\n",
       "      <td>7.0000</td>\n",
       "      <td>-350,112,892.9430</td>\n",
       "    </tr>\n",
       "    <tr>\n",
       "      <th>7</th>\n",
       "      <td>10.0000</td>\n",
       "      <td>15,213,145.2680</td>\n",
       "    </tr>\n",
       "    <tr>\n",
       "      <th>8</th>\n",
       "      <td>20.0000</td>\n",
       "      <td>-230,621.5650</td>\n",
       "    </tr>\n",
       "  </tbody>\n",
       "</table></font></center>"
      ],
      "text/plain": [
       "<IPython.core.display.HTML object>"
      ]
     },
     "metadata": {},
     "output_type": "display_data"
    },
    {
     "name": "stdout",
     "output_type": "stream",
     "text": [
      "Calculation Time: 3.91372 s\n"
     ]
    },
    {
     "data": {
      "text/html": [
       "<center><font size=2><table border=\"1\" class=\"dataframe\">\n",
       "  <thead>\n",
       "    <tr style=\"text-align: right;\">\n",
       "      <th></th>\n",
       "      <th>$T_q$</th>\n",
       "      <th>$h_0$</th>\n",
       "    </tr>\n",
       "  </thead>\n",
       "  <tbody>\n",
       "    <tr>\n",
       "      <th>0</th>\n",
       "      <td>0.25</td>\n",
       "      <td>61,632.38</td>\n",
       "    </tr>\n",
       "    <tr>\n",
       "      <th>1</th>\n",
       "      <td>0.50</td>\n",
       "      <td>3,416,770.08</td>\n",
       "    </tr>\n",
       "    <tr>\n",
       "      <th>2</th>\n",
       "      <td>1.00</td>\n",
       "      <td>5,913,054.94</td>\n",
       "    </tr>\n",
       "    <tr>\n",
       "      <th>3</th>\n",
       "      <td>2.00</td>\n",
       "      <td>7,546,809.43</td>\n",
       "    </tr>\n",
       "    <tr>\n",
       "      <th>4</th>\n",
       "      <td>3.00</td>\n",
       "      <td>7,975,226.22</td>\n",
       "    </tr>\n",
       "    <tr>\n",
       "      <th>5</th>\n",
       "      <td>5.00</td>\n",
       "      <td>68,126,888.58</td>\n",
       "    </tr>\n",
       "    <tr>\n",
       "      <th>6</th>\n",
       "      <td>7.00</td>\n",
       "      <td>49,689,456.60</td>\n",
       "    </tr>\n",
       "    <tr>\n",
       "      <th>7</th>\n",
       "      <td>10.00</td>\n",
       "      <td>-5,003,753.68</td>\n",
       "    </tr>\n",
       "    <tr>\n",
       "      <th>8</th>\n",
       "      <td>20.00</td>\n",
       "      <td>-566,480.76</td>\n",
       "    </tr>\n",
       "  </tbody>\n",
       "</table></font></center>"
      ],
      "text/plain": [
       "<IPython.core.display.HTML object>"
      ]
     },
     "metadata": {},
     "output_type": "display_data"
    }
   ],
   "source": [
    "import itertools\n",
    "\n",
    "def calculate_present_value(swap, notional, discount_curve):\n",
    "    payout_times = np.arange(1./swap.freq, swap.maturity + 1e-6/swap.freq, 1./swap.freq)\n",
    "    discount_factors = discount_curve(payout_times)\n",
    "    return np.sum(notional*swap.coupon*discount_factors) + discount_factors[-1]*notional\n",
    "\n",
    "\n",
    "def calculate_instrument_deltas(benchmarks, swap, notional, its=10):\n",
    "    deltas = []\n",
    "    unadjusted_curve, _ = inst.iterboot(dict(zip(benchmarks, itertools.repeat(0))), y2pv, lbd=5, x0=0, bds=[-1, 2], make_curve=lin.RationalTension, its=its)\n",
    "    base_pv = calculate_present_value(swap, notional, unadjusted_curve)\n",
    "\n",
    "    for bumper in benchmarks:\n",
    "        bumped_benchmarks = {b if b is not bumper else Swap(b.maturity, b.coupon+1e-4, b.freq): 0 for b in benchmarks}\n",
    "        bumped_curve, _ = inst.iterboot(bumped_benchmarks, y2pv, lbd=5, x0=0, bds=[-1, 2], make_curve=lin.RationalTension, its=its)\n",
    "        bumped_pv = calculate_present_value(swap, notional, bumped_curve)\n",
    "        deltas.append((bumped_pv - base_pv) / (1e-4))\n",
    "\n",
    "    return np.array(deltas)\n",
    "\n",
    "\n",
    "benchmarks = sorted(bm_swaps, key=lambda x: x.maturity)\n",
    "\n",
    "swap = Swap(6, 0.05, 2)\n",
    "\n",
    "notional = 1e8\n",
    "deltas = calculate_instrument_deltas(benchmarks, swap, notional)\n",
    "fmt.displayDF(pd.DataFrame(np.array([np.array([bm.maturity for bm in benchmarks]), deltas]).T,\n",
    "                           columns=['$T_q$', '$\\partial v / \\partial q$']))\n",
    "\n",
    "\n",
    "\n",
    "def calculate_hedge_notionals_using_benchmarks(benchmarks, swap, notional, its=10):\n",
    "    unadjusted_curve, _ = inst.iterboot(dict(zip(benchmarks, itertools.repeat(0))), y2pv, lbd=5, x0=0, bds=[-1, 2], make_curve=lin.RationalTension, its=its)\n",
    "\n",
    "    bumped_swap_deltas = []\n",
    "    bumped_benchmark_deltas = []\n",
    "\n",
    "    unbumped_swap_pv = calculate_present_value(swap, notional, unadjusted_curve)\n",
    "    unbumped_benchmark_pvs = [calculate_present_value(bm, 1, unadjusted_curve) for bm in benchmarks]\n",
    "\n",
    "    for bumper in benchmarks:\n",
    "        bumped_benchmarks = {b if b is not bumper else Swap(b.maturity, b.coupon+1e-4, b.freq): 0 for b in benchmarks}\n",
    "        bumped_curve, _ = inst.iterboot(bumped_benchmarks,\n",
    "                                        y2pv,\n",
    "                                        lbd=5,\n",
    "                                        x0=0,\n",
    "                                        bds=[-1, 2],\n",
    "                                        make_curve=lin.RationalTension,\n",
    "                                        its=its)\n",
    "        bumped_swap_deltas.append((calculate_present_value(swap, notional, bumped_curve) - unbumped_swap_pv)/1e-4)\n",
    "        bumped_benchmark_deltas.append(np.array([\n",
    "            (calculate_present_value(bm, 1, bumped_curve) - bm_swap_pv) / 1e-4\n",
    "            for bm, bm_swap_pv in zip(benchmarks, unbumped_benchmark_pvs)\n",
    "        ]))\n",
    "\n",
    "    return np.array(bumped_swap_deltas).dot(np.linalg.inv(np.array(bumped_benchmark_deltas)))\n",
    "\n",
    "t1 = datetime.datetime.now()\n",
    "notionals = calculate_hedge_notionals_using_benchmarks(benchmarks, swap, notional)\n",
    "t2 = datetime.datetime.now()\n",
    "calculation_time = (t2 - t1).seconds + 1e-6*(t2-t1).microseconds\n",
    "print(f\"Calculation Time: {calculation_time} s\")\n",
    "\n",
    "fmt.displayDF(pd.DataFrame(np.array([np.array([bm.maturity for bm in benchmarks]), notionals]).T,\n",
    "                           columns=['$T_q$', '$h_0$']),\n",
    "              fmt='2f')\n",
    "\n",
    "        \n"
   ]
  },
  {
   "cell_type": "markdown",
   "metadata": {},
   "source": [
    "## Part 5\n",
    "Suppose your system only computes the risks to the zero rates, compute the risk of the aged trade to zero rates, and the Jacobian matrix and use them to compute the hedge notionals, compare the results and computation time to the previous step. "
   ]
  },
  {
   "cell_type": "markdown",
   "metadata": {},
   "source": [
    "**Student Note**: I'm going to use the approach outlined in Anderson & Piterbarg 6.4.2.: piecewise bump the forward curve. I'm modifying the approach to directly bump the zero curve instead."
   ]
  },
  {
   "cell_type": "code",
   "execution_count": 53,
   "metadata": {},
   "outputs": [
    {
     "name": "stdout",
     "output_type": "stream",
     "text": [
      "[[0.00000000e+00 0.00000000e+00 0.00000000e+00 0.00000000e+00\n",
      "  0.00000000e+00 0.00000000e+00 0.00000000e+00 0.00000000e+00\n",
      "  0.00000000e+00]\n",
      " [2.50034376e-01 0.00000000e+00 0.00000000e+00 0.00000000e+00\n",
      "  0.00000000e+00 0.00000000e+00 0.00000000e+00 0.00000000e+00\n",
      "  0.00000000e+00]\n",
      " [0.00000000e+00 5.00762957e-01 1.30100754e-03 3.64809310e-03\n",
      "  5.93093291e-03 8.67949207e-03 1.02275057e-02 1.11057417e-02\n",
      "  1.24484159e-02]\n",
      " [0.00000000e+00 0.00000000e+00 1.00526107e+00 1.83315730e-02\n",
      "  2.98027837e-02 4.36142221e-02 5.13929506e-02 5.58060633e-02\n",
      "  6.25529663e-02]\n",
      " [0.00000000e+00 0.00000000e+00 0.00000000e+00 2.04441785e+00\n",
      "  5.44284145e-02 7.96520546e-02 9.38582397e-02 1.01917847e-01\n",
      "  1.14239623e-01]\n",
      " [0.00000000e+00 0.00000000e+00 0.00000000e+00 0.00000000e+00\n",
      "  3.14636622e+00 2.75321508e-01 3.24425932e-01 3.52284387e-01\n",
      "  3.94875253e-01]\n",
      " [0.00000000e+00 0.00000000e+00 0.00000000e+00 0.00000000e+00\n",
      "  0.00000000e+00 5.55328145e+00 5.25117244e-01 5.70209062e-01\n",
      "  6.39146826e-01]\n",
      " [0.00000000e+00 0.00000000e+00 0.00000000e+00 0.00000000e+00\n",
      "  0.00000000e+00 0.00000000e+00 8.25978259e+00 1.31707851e+00\n",
      "  1.47631212e+00]\n",
      " [0.00000000e+00 0.00000000e+00 0.00000000e+00 0.00000000e+00\n",
      "  0.00000000e+00 0.00000000e+00 0.00000000e+00 1.28076434e+01\n",
      "  1.06871938e+01]]\n"
     ]
    },
    {
     "ename": "LinAlgError",
     "evalue": "Singular matrix",
     "output_type": "error",
     "traceback": [
      "\u001b[1;31m---------------------------------------------------------------------------\u001b[0m",
      "\u001b[1;31mLinAlgError\u001b[0m                               Traceback (most recent call last)",
      "\u001b[1;32m<ipython-input-53-33a2de48b018>\u001b[0m in \u001b[0;36m<module>\u001b[1;34m()\u001b[0m\n\u001b[0;32m     36\u001b[0m \u001b[1;33m\u001b[0m\u001b[0m\n\u001b[0;32m     37\u001b[0m \u001b[0mt1\u001b[0m \u001b[1;33m=\u001b[0m \u001b[0mdatetime\u001b[0m\u001b[1;33m.\u001b[0m\u001b[0mdatetime\u001b[0m\u001b[1;33m.\u001b[0m\u001b[0mnow\u001b[0m\u001b[1;33m(\u001b[0m\u001b[1;33m)\u001b[0m\u001b[1;33m\u001b[0m\u001b[0m\n\u001b[1;32m---> 38\u001b[1;33m \u001b[0mnotionals\u001b[0m \u001b[1;33m=\u001b[0m \u001b[0mcalculate_hedge_notionals_using_bumped_zero\u001b[0m\u001b[1;33m(\u001b[0m\u001b[0mzero_curve\u001b[0m\u001b[1;33m,\u001b[0m \u001b[0mbenchmarks\u001b[0m\u001b[1;33m,\u001b[0m \u001b[0mswap\u001b[0m\u001b[1;33m,\u001b[0m \u001b[0mnotional\u001b[0m\u001b[1;33m)\u001b[0m\u001b[1;33m\u001b[0m\u001b[0m\n\u001b[0m\u001b[0;32m     39\u001b[0m \u001b[0mt2\u001b[0m \u001b[1;33m=\u001b[0m \u001b[0mdatetime\u001b[0m\u001b[1;33m.\u001b[0m\u001b[0mdatetime\u001b[0m\u001b[1;33m.\u001b[0m\u001b[0mnow\u001b[0m\u001b[1;33m(\u001b[0m\u001b[1;33m)\u001b[0m\u001b[1;33m\u001b[0m\u001b[0m\n\u001b[0;32m     40\u001b[0m \u001b[0mcalculation_time\u001b[0m \u001b[1;33m=\u001b[0m \u001b[1;33m(\u001b[0m\u001b[0mt2\u001b[0m \u001b[1;33m-\u001b[0m \u001b[0mt1\u001b[0m\u001b[1;33m)\u001b[0m\u001b[1;33m.\u001b[0m\u001b[0mseconds\u001b[0m \u001b[1;33m+\u001b[0m \u001b[1;36m1e-6\u001b[0m\u001b[1;33m*\u001b[0m\u001b[1;33m(\u001b[0m\u001b[0mt2\u001b[0m\u001b[1;33m-\u001b[0m\u001b[0mt1\u001b[0m\u001b[1;33m)\u001b[0m\u001b[1;33m.\u001b[0m\u001b[0mmicroseconds\u001b[0m\u001b[1;33m\u001b[0m\u001b[0m\n",
      "\u001b[1;32m<ipython-input-53-33a2de48b018>\u001b[0m in \u001b[0;36mcalculate_hedge_notionals_using_bumped_zero\u001b[1;34m(unadjusted_zero_curve, benchmarks, swap, notional)\u001b[0m\n\u001b[0;32m     32\u001b[0m \u001b[1;33m\u001b[0m\u001b[0m\n\u001b[0;32m     33\u001b[0m     \u001b[0mprint\u001b[0m\u001b[1;33m(\u001b[0m\u001b[0mnp\u001b[0m\u001b[1;33m.\u001b[0m\u001b[0marray\u001b[0m\u001b[1;33m(\u001b[0m\u001b[0mbumped_benchmark_deltas\u001b[0m\u001b[1;33m)\u001b[0m\u001b[1;33m)\u001b[0m\u001b[1;33m\u001b[0m\u001b[0m\n\u001b[1;32m---> 34\u001b[1;33m     \u001b[1;32mreturn\u001b[0m \u001b[0mnp\u001b[0m\u001b[1;33m.\u001b[0m\u001b[0marray\u001b[0m\u001b[1;33m(\u001b[0m\u001b[0mbumped_swap_deltas\u001b[0m\u001b[1;33m)\u001b[0m\u001b[1;33m.\u001b[0m\u001b[0mdot\u001b[0m\u001b[1;33m(\u001b[0m\u001b[0mnp\u001b[0m\u001b[1;33m.\u001b[0m\u001b[0mlinalg\u001b[0m\u001b[1;33m.\u001b[0m\u001b[0minv\u001b[0m\u001b[1;33m(\u001b[0m\u001b[0mnp\u001b[0m\u001b[1;33m.\u001b[0m\u001b[0marray\u001b[0m\u001b[1;33m(\u001b[0m\u001b[0mbumped_benchmark_deltas\u001b[0m\u001b[1;33m)\u001b[0m\u001b[1;33m)\u001b[0m\u001b[1;33m)\u001b[0m\u001b[1;33m\u001b[0m\u001b[0m\n\u001b[0m\u001b[0;32m     35\u001b[0m \u001b[1;33m\u001b[0m\u001b[0m\n\u001b[0;32m     36\u001b[0m \u001b[1;33m\u001b[0m\u001b[0m\n",
      "\u001b[1;32mc:\\users\\harold kingsberg\\appdata\\local\\programs\\python\\python36\\lib\\site-packages\\numpy\\linalg\\linalg.py\u001b[0m in \u001b[0;36minv\u001b[1;34m(a)\u001b[0m\n\u001b[0;32m    526\u001b[0m     \u001b[0msignature\u001b[0m \u001b[1;33m=\u001b[0m \u001b[1;34m'D->D'\u001b[0m \u001b[1;32mif\u001b[0m \u001b[0misComplexType\u001b[0m\u001b[1;33m(\u001b[0m\u001b[0mt\u001b[0m\u001b[1;33m)\u001b[0m \u001b[1;32melse\u001b[0m \u001b[1;34m'd->d'\u001b[0m\u001b[1;33m\u001b[0m\u001b[0m\n\u001b[0;32m    527\u001b[0m     \u001b[0mextobj\u001b[0m \u001b[1;33m=\u001b[0m \u001b[0mget_linalg_error_extobj\u001b[0m\u001b[1;33m(\u001b[0m\u001b[0m_raise_linalgerror_singular\u001b[0m\u001b[1;33m)\u001b[0m\u001b[1;33m\u001b[0m\u001b[0m\n\u001b[1;32m--> 528\u001b[1;33m     \u001b[0mainv\u001b[0m \u001b[1;33m=\u001b[0m \u001b[0m_umath_linalg\u001b[0m\u001b[1;33m.\u001b[0m\u001b[0minv\u001b[0m\u001b[1;33m(\u001b[0m\u001b[0ma\u001b[0m\u001b[1;33m,\u001b[0m \u001b[0msignature\u001b[0m\u001b[1;33m=\u001b[0m\u001b[0msignature\u001b[0m\u001b[1;33m,\u001b[0m \u001b[0mextobj\u001b[0m\u001b[1;33m=\u001b[0m\u001b[0mextobj\u001b[0m\u001b[1;33m)\u001b[0m\u001b[1;33m\u001b[0m\u001b[0m\n\u001b[0m\u001b[0;32m    529\u001b[0m     \u001b[1;32mreturn\u001b[0m \u001b[0mwrap\u001b[0m\u001b[1;33m(\u001b[0m\u001b[0mainv\u001b[0m\u001b[1;33m.\u001b[0m\u001b[0mastype\u001b[0m\u001b[1;33m(\u001b[0m\u001b[0mresult_t\u001b[0m\u001b[1;33m,\u001b[0m \u001b[0mcopy\u001b[0m\u001b[1;33m=\u001b[0m\u001b[1;32mFalse\u001b[0m\u001b[1;33m)\u001b[0m\u001b[1;33m)\u001b[0m\u001b[1;33m\u001b[0m\u001b[0m\n\u001b[0;32m    530\u001b[0m \u001b[1;33m\u001b[0m\u001b[0m\n",
      "\u001b[1;32mc:\\users\\harold kingsberg\\appdata\\local\\programs\\python\\python36\\lib\\site-packages\\numpy\\linalg\\linalg.py\u001b[0m in \u001b[0;36m_raise_linalgerror_singular\u001b[1;34m(err, flag)\u001b[0m\n\u001b[0;32m     87\u001b[0m \u001b[1;33m\u001b[0m\u001b[0m\n\u001b[0;32m     88\u001b[0m \u001b[1;32mdef\u001b[0m \u001b[0m_raise_linalgerror_singular\u001b[0m\u001b[1;33m(\u001b[0m\u001b[0merr\u001b[0m\u001b[1;33m,\u001b[0m \u001b[0mflag\u001b[0m\u001b[1;33m)\u001b[0m\u001b[1;33m:\u001b[0m\u001b[1;33m\u001b[0m\u001b[0m\n\u001b[1;32m---> 89\u001b[1;33m     \u001b[1;32mraise\u001b[0m \u001b[0mLinAlgError\u001b[0m\u001b[1;33m(\u001b[0m\u001b[1;34m\"Singular matrix\"\u001b[0m\u001b[1;33m)\u001b[0m\u001b[1;33m\u001b[0m\u001b[0m\n\u001b[0m\u001b[0;32m     90\u001b[0m \u001b[1;33m\u001b[0m\u001b[0m\n\u001b[0;32m     91\u001b[0m \u001b[1;32mdef\u001b[0m \u001b[0m_raise_linalgerror_nonposdef\u001b[0m\u001b[1;33m(\u001b[0m\u001b[0merr\u001b[0m\u001b[1;33m,\u001b[0m \u001b[0mflag\u001b[0m\u001b[1;33m)\u001b[0m\u001b[1;33m:\u001b[0m\u001b[1;33m\u001b[0m\u001b[0m\n",
      "\u001b[1;31mLinAlgError\u001b[0m: Singular matrix"
     ]
    }
   ],
   "source": [
    "np.exp(-zero_curve(t1d) * t1d)\n",
    "\n",
    "def create_bumped_discount_curve(zero_curve, upper, lower, bump_size=1e-4):\n",
    "    def bumped_curve(t):\n",
    "        res = zero_curve(t)\n",
    "\n",
    "        if isinstance(res, np.ndarray):\n",
    "            return np.exp(np.array([val+bump_size if lower <= tt < upper else val for tt, val in zip(t, res)]) * t)\n",
    "        else:\n",
    "            return (res + (1e-4 if lower <= tt <= upper else 0)) * t\n",
    "\n",
    "    return bumped_curve\n",
    "\n",
    "\n",
    "def calculate_hedge_notionals_using_bumped_zero(unadjusted_zero_curve, benchmarks, swap, notional):\n",
    "    maturities = [0] + [bm.maturity for bm in benchmarks]\n",
    "\n",
    "    bumped_swap_deltas = []\n",
    "    bumped_benchmark_deltas = []\n",
    "\n",
    "    unadjusted_discount_curve = create_bumped_discount_curve(unadjusted_zero_curve, 0, 1, 0)\n",
    "    unbumped_swap_pv = calculate_present_value(swap, notional, unadjusted_discount_curve)\n",
    "    unbumped_benchmark_pvs = [calculate_present_value(bm, 1, unadjusted_discount_curve) for bm in benchmarks]\n",
    "\n",
    "    for lower, upper in zip(maturities, maturities[1:]):\n",
    "        bumped_curve = create_bumped_discount_curve(unadjusted_zero_curve, upper, lower)\n",
    "        bumped_swap_deltas.append((calculate_present_value(swap, notional, bumped_curve) - unbumped_swap_pv)/1e-4)\n",
    "        bumped_benchmark_deltas.append(np.array([\n",
    "            (calculate_present_value(bm, 1, bumped_curve) - bm_swap_pv) / 1e-4\n",
    "            for bm, bm_swap_pv in zip(benchmarks, unbumped_benchmark_pvs)\n",
    "        ]))\n",
    "\n",
    "    return np.array(bumped_swap_deltas).dot(np.linalg.inv(np.array(bumped_benchmark_deltas)))\n",
    "\n",
    "\n",
    "t1 = datetime.datetime.now()\n",
    "notionals = calculate_hedge_notionals_using_bumped_zero(zero_curve, benchmarks, swap, notional)\n",
    "t2 = datetime.datetime.now()\n",
    "calculation_time = (t2 - t1).seconds + 1e-6*(t2-t1).microseconds\n",
    "print(f\"Calculation Time: {calculation_time} s\")\n",
    "\n",
    "fmt.displayDF(pd.DataFrame(np.array([np.array([bm.maturity for bm in benchmarks]), notionals]).T,\n",
    "                           columns=['$T_q$', '$h_0$']),\n",
    "              fmt='2f')\n"
   ]
  },
  {
   "cell_type": "markdown",
   "metadata": {},
   "source": [
    "## Problem 2\n",
    "\n",
    "Following what you have done from the first problem, take the zero rates as fundamental risk factors in the market, and the aged bespoke swap:"
   ]
  },
  {
   "cell_type": "markdown",
   "metadata": {},
   "source": [
    "## Part 1\n",
    "Suppose only 1Y, 5Y and 10Y IR swaps are liquid, devise the best hedging portfolio for the aged swap that minimizes the L-2 norm of the risks."
   ]
  },
  {
   "cell_type": "code",
   "execution_count": null,
   "metadata": {},
   "outputs": [],
   "source": []
  },
  {
   "cell_type": "markdown",
   "metadata": {},
   "source": [
    "## Part 2\n",
    "Repeat step 1, but minimize the variance of the hedged portfolio instead, you can estimate the covariance matrix from the historical data.\n",
    "\n",
    "Show the effectiveness of your hedging portfolio.\n",
    "\n",
    "Hint: be careful on whether you should use the covariance of levels or changes of rates."
   ]
  },
  {
   "cell_type": "code",
   "execution_count": null,
   "metadata": {},
   "outputs": [],
   "source": []
  },
  {
   "cell_type": "markdown",
   "metadata": {},
   "source": [
    "## (Extra credit) Problem 4 \n",
    "The Brownian bridge method can be easily extended to multi-dimensional correlated Brownian motions. Assuming we have two browniam motion $x(t), y(t)$ with a correlation of 50%,"
   ]
  },
  {
   "cell_type": "markdown",
   "metadata": {},
   "source": [
    "## Part 1\n",
    "Write a program to construct correlated Brownian Bridge from the given terminal values, correlation matrix and time increments, note that here you need to draw correlated Gaussian random numbers to perserve the correlation of the Brownian Bridge increments."
   ]
  },
  {
   "cell_type": "code",
   "execution_count": null,
   "metadata": {},
   "outputs": [],
   "source": [
    "def create_brownian_bridge(terminal_values, correlation_matrix, dt):\n",
    "    obs = np.random.normal(0, 1, (len(correlation_matrix), int(1/dt)))\n",
    "    c = np.linalg.cholesky(correlation_matrix)\n",
    "    samples = c.dot(obs)\n",
    "    samples = np.cumsum(samples, 1)\n",
    "    t = np.arange(0, 1, dt)\n",
    "    return np.array([\n",
    "        p - (p[-1] - terminal)*t for terminal, p in zip(terminal_values, samples)\n",
    "    ])\n",
    "    \n",
    "rho = np.array([\n",
    "    [1, 0.5],\n",
    "    [0.5, 1],\n",
    "])\n",
    "pd.DataFrame(create_brownian_bridge([2, 3], rho, 0.01)).T.rename(columns={0: '$x(t)$', 1: '$y(t)$'}).plot();"
   ]
  },
  {
   "cell_type": "markdown",
   "metadata": {},
   "source": [
    "This was written assuming $\\mu=0$ and $\\sigma=1$. At such conditions, the correlation and covariance matrices are equivalent."
   ]
  },
  {
   "cell_type": "markdown",
   "metadata": {},
   "source": [
    "## Part 2\n",
    "Draw multiple paths from different terminal values and verify that the correlation of the increments of your Brownian Bridge is indeed 50%. Note that the terminal values can be drawn directly using the covariance matrix, which is known. "
   ]
  },
  {
   "cell_type": "code",
   "execution_count": null,
   "metadata": {},
   "outputs": [],
   "source": [
    "correlation = np.array([\n",
    "    pd.DataFrame(create_brownian_bridge([2, 4], rho, 0.01).T).diff().corr().iloc[0,1]\n",
    "    for _ in range(1000)\n",
    "])\n",
    "print('Mean of the Correlation of the Increments', correlation.mean())\n",
    "print('Std Deviation', correlation.std())\n",
    "tt = 0.01\n",
    "x = []\n",
    "\n",
    "for _ in range(100):\n",
    "    for xx in create_brownian_bridge([2, 4], np.array([[1,0.5],[0.5,1]]), tt):\n",
    "        x.append(xx)\n",
    "\n",
    "dt = np.arange(0, 1, tt)\n",
    "x = np.array(x)\n",
    "\n",
    "xt = x[::2]\n",
    "yt = x[1::2]\n",
    "\n",
    "plt.figure(figsize=[12, 4])\n",
    "s = plt.subplot(1, 2, 1)\n",
    "s.plot(dt, xt[:3].T)\n",
    "s.plot(dt, np.std(xt, 0))\n",
    "plt.title('$x(t)$');\n",
    "\n",
    "s = plt.subplot(1, 2, 2)\n",
    "s.plot(dt, yt[:3].T)\n",
    "s.plot(dt, np.std(yt, 0))\n",
    "plt.title('$y(t)$');"
   ]
  },
  {
   "cell_type": "markdown",
   "metadata": {},
   "source": [
    "## Part 3\n",
    "Suppose that you forgot about the correlation and used independent Gaussian random numbers in step 1, and have drawn the Brownian Bridges using correlated terminal values, but independent increments; Plot the resulting terminal value correlation between $\\rho\\left(x(t), y(t)\\right)$ of the resulting Brownian Bridge over time $t$, explain your observation."
   ]
  },
  {
   "cell_type": "code",
   "execution_count": null,
   "metadata": {},
   "outputs": [],
   "source": [
    "tt = 0.01\n",
    "x = []\n",
    "\n",
    "for _ in range(100):\n",
    "    for xx in create_brownian_bridge([2, 4], np.array([[1,0],[0,1]]), tt):\n",
    "        x.append(xx)\n",
    "\n",
    "dt = np.arange(0, 1, tt)\n",
    "x = np.array(x)\n",
    "\n",
    "xt = x[::2]\n",
    "yt = x[1::2]\n",
    "\n",
    "plt.figure(figsize=[12, 4])\n",
    "s = plt.subplot(1, 2, 1)\n",
    "s.plot(dt, xt[:3].T)\n",
    "s.plot(dt, np.std(xt, 0))\n",
    "plt.title('$x(t)$');\n",
    "\n",
    "s = plt.subplot(1, 2, 2)\n",
    "s.plot(dt, yt[:3].T)\n",
    "s.plot(dt, np.std(yt, 0))\n",
    "plt.title('$y(t)$');"
   ]
  },
  {
   "cell_type": "markdown",
   "metadata": {},
   "source": [
    "As we can see, the terminal value correlation looks essentially the same for correlated and uncorrelated data. This is easy to explain -- since the termination points are fixed, we know that the end of the paths must have $\\sigma = 0$. Similarly, since the starting points are all the same -- 0 -- $\\sigma$ at the very beginning will also be 0. Regardless of the correlation of the steps themselves, the middle of the interval will always have the greatest room for standard deviation."
   ]
  },
  {
   "cell_type": "code",
   "execution_count": null,
   "metadata": {},
   "outputs": [],
   "source": []
  }
 ],
 "metadata": {
  "kernelspec": {
   "display_name": "Python 3",
   "language": "python",
   "name": "python3"
  },
  "language_info": {
   "codemirror_mode": {
    "name": "ipython",
    "version": 3
   },
   "file_extension": ".py",
   "mimetype": "text/x-python",
   "name": "python",
   "nbconvert_exporter": "python",
   "pygments_lexer": "ipython3",
   "version": "3.6.4"
  }
 },
 "nbformat": 4,
 "nbformat_minor": 2
}
