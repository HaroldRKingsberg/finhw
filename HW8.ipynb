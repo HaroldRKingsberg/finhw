{
 "cells": [
  {
   "cell_type": "markdown",
   "metadata": {},
   "source": [
    "# Homework Set 8"
   ]
  },
  {
   "cell_type": "code",
   "execution_count": 2,
   "metadata": {},
   "outputs": [
    {
     "name": "stdout",
     "output_type": "stream",
     "text": [
      "Populating the interactive namespace from numpy and matplotlib\n"
     ]
    }
   ],
   "source": [
    "%pylab inline"
   ]
  },
  {
   "cell_type": "code",
   "execution_count": 8,
   "metadata": {},
   "outputs": [],
   "source": [
    "import collections\n",
    "import functools\n",
    "import numpy as np"
   ]
  },
  {
   "cell_type": "markdown",
   "metadata": {},
   "source": [
    "## Problem 1:\n",
    "\n",
    "Prove the statement:\n",
    "\n",
    "* If $\\mathbf{x}^*$ is a solution to the original optimization problem (**Primal Problem**), then for $\\forall \\mathbf{\\lambda} \\succeq 0$ and any $\\mathbf{\\mu}$,\n",
    "\n",
    "$$\n",
    "\\hat{f}(\\mathbf{\\mu}, \\mathbf{\\lambda}) \\leq f(\\mathbf{x}^*).\n",
    "$$\n",
    "     \n",
    "   "
   ]
  },
  {
   "cell_type": "markdown",
   "metadata": {},
   "source": [
    "### Solution\n",
    "\n",
    "We know:\n",
    "\n",
    "\\begin{aligned}\n",
    "\\hat{f}\\left(\\mu, \\lambda\\right) = \\inf_{x\\in D} f\\left(x\\right) + \\mu^Th\\left(x\\right) + \\lambda^Tg\\left(x\\right)\n",
    "\\end{aligned}\n",
    "\n",
    "We also know, by the constraints of the problem, that $g\\left(x\\right) \\leq 0$ and that $h(\\left(x\\right) = 0$. Any solutions to the Langrangian dual function must obey these constraints. This, of course, means that we can simply a bit:\n",
    "\n",
    "\\begin{aligned}\n",
    "\\hat{f}\\left(x^*\\right) = \\inf_{x^*\\in D} f\\left(x^*\\right) + \\lambda^Tg\\left(x^*\\right)\n",
    "\\end{aligned}\n",
    "\n",
    "Since $x^*$ is a solution, it must fit the constraints, so $h\\left(x^*\\right) = 0$ must be true. This leaves us with\n",
    "\n",
    "\\begin{aligned}\n",
    "f\\left(x^*\\right) \\stackrel{?}{=} f\\left(x^*\\right) + \\lambda^Tg\\left(x^*\\right)\n",
    "\\end{aligned}\n",
    "\n",
    "Since it is given that $\\forall \\lambda \\succeq 0$, we know that $\\lambda$ is positive. Similarly, we also know that, by the constraints of the problem, $g\\left(x^*\\right) \\leq 0$, so therefore $g\\left(x^*\\right)$ is negative. In other words, in the above question, we know:\n",
    "\n",
    "\\begin{aligned}\n",
    "& \\lambda^Tg\\left(x^*\\right) \\leq 0 \\\\\n",
    "& \\therefore f\\left(x^*\\right) \\geq f\\left(x^*\\right) + \\lambda^Tg\\left(x^*\\right) \\\\\n",
    "& \\therefore f\\left(x^*\\right) \\geq \\hat{f}\\left(\\mu, \\lambda\\right)\n",
    "\\end{aligned}"
   ]
  },
  {
   "cell_type": "markdown",
   "metadata": {},
   "source": [
    "## Problem 2\n",
    "\n",
    "Derive the dual problem for the portfolio optimization problem:\n",
    "\n",
    "\n",
    "\\begin{aligned}\n",
    "\\min_{\\mathbf{x}} \\;\\; \\frac{1}{2} \\lambda\\; \\mathbf{x}^T \\Sigma \\mathbf{x} &- \\mu^T \\mathbf{x}\n",
    "\\\\\n",
    "s.t. \\;\\;\\sum_i x_i &= 1\n",
    "\\end{aligned}\n",
    "\n",
    "where $\\lambda$ is the risk-aversion coefficient, $\\mu$ is the expected asset return vector and $\\Sigma$ is the covariance matrix. \n",
    "\n"
   ]
  },
  {
   "cell_type": "markdown",
   "metadata": {},
   "source": [
    "### Solution\n",
    "We have currently put this in matrix form. Let us assume $\\mathbf{x}$ is of dimensionality $n$. In such a case, the function we are looking to minimize is \n",
    "\n",
    "\n",
    "\\begin{aligned}\n",
    "\\frac{\\lambda}{2}\\left(\\sum_{i=1}^n \\left(x_i^2\\sigma_i^2\\right) + 2\\sum_{i=1}^{n-1}\\sum_{j=i+1}^n\\left(x_ix_j\\sigma_{ij}\\right) - \\sum_{i=1}^n \\left(\\mu_i x_i\\right) \\right)\n",
    "\\end{aligned}\n",
    "\n",
    "Our constraint can be written as\n",
    "\n",
    "\\begin{aligned}\n",
    "\\sum_{i=1}^n \\left(x_i\\right) - 1 = 0\n",
    "\\end{aligned}\n",
    "\n",
    "If we use $\\xi$ as our Lagrange multiplier (to avoid the confusion of using the more traditional $\\lambda$), then our Lagrangian expression is:\n",
    "\n",
    "\\begin{aligned}\n",
    "\\mathscr{L}\\left(\\mathbf{x}, \\xi\\right) = \\frac{\\lambda}{2}\\left(\\sum_{i=1}^n \\left(x_i^2\\sigma_i^2\\right) + 2\\sum_{i=1}^{n-1}\\sum_{j=i+1}^n\\left(x_ix_j\\sigma_{ij}\\right) - \\sum_{i=1}^n \\left(\\mu_i x_i\\right) \\right) - \\xi - \\xi\\sum_{i=1}^n \\left(x_i\\right)\n",
    "\\end{aligned}\n",
    "\n",
    "The dual function is therefore:\n",
    "\n",
    "\\begin{aligned}\n",
    "\\Theta\\left(\\xi\\right) = \\inf_{\\sum \\mathbf{x} = 1} \\frac{\\lambda}{2}\\left(\\sum_{i=1}^n \\left(x_i^2\\sigma_i^2\\right) + 2\\sum_{i=1}^{n-1}\\sum_{j=i+1}^n\\left(x_ix_j\\sigma_{ij}\\right) - \\sum_{i=1}^n \\left(\\mu_i x_i\\right) \\right) - \\xi - \\xi\\sum_{i=1}^n \\left(x_i\\right)\n",
    "\\end{aligned}\n",
    "\n",
    "Which gives us the problem to solve of:\n",
    "\n",
    "\\begin{aligned}\n",
    "\\max_{\\xi \\geq 0} \\left[ \\inf_{\\sum \\mathbf{x} = 1} \\frac{\\lambda}{2}\\left(\\sum_{i=1}^n \\left(x_i^2\\sigma_i^2\\right) + 2\\sum_{i=1}^{n-1}\\sum_{j=i+1}^n\\left(x_ix_j\\sigma_{ij}\\right) - \\sum_{i=1}^n \\left(\\mu_i x_i\\right) \\right) - \\xi - \\xi\\sum_{i=1}^n \\left(x_i\\right) \\right]\n",
    "\\end{aligned}"
   ]
  },
  {
   "cell_type": "markdown",
   "metadata": {},
   "source": [
    "## Problem 3\n",
    "\n",
    "\n",
    "Similar to our example in class, here is the table of future liabilities (in $millions):\n",
    "\n",
    "|  Years | 1 | 2 | 3 | 4 | 5 | 6 | 7 | 8 | 9 |\n",
    "| :-----: | :----: | :----: | :----: | :----: | :----: | :----: | :----: | :----: | :----: |\n",
    "|  Benefits($millions) | 24 | 26 | 28 | 28 | 26 | 29 | 32 | 33 | 34 |\n",
    "\n",
    "\n",
    "And here is the set of bonds that can be invested in:\n",
    "\n",
    "|  Bonds | 1 | 2 | 3 | 4 | 5 | 6 | 7 | 8 | 9 | 10 | 11 | 12 |\n",
    "| :-----: | :----: | :----: | :----: | :----: | :----: | :----: | :----: | :----: | :----: | :----: | :----: | :----: |\n",
    "|  Price | 102 | 101.625 | 103 | 102 | 102 | 103 | 101 | 101.5 | 102 | 102.75 | 103 | 104 |\n",
    "|  Coupon(%) | 1.25 | 1.5 | 2.5 | 1.75 | 2.125 | 2.5 | 2.625 | 3 | 3.125 | 3.5 |  3.75 | 4.5 |\n",
    "|  Maturity(Years) | 1 | 2 | 2 | 3 | 4 | 5 | 5 | 6 | 7 | 8 |  8 | 9 |\n",
    "\n",
    "\n",
    "Consider two excess cash scenarios: 1) not reused at each period. 2) reinvested at 1% interest rate and reused. \n",
    "Find the **least cost** portfolio of bonds so that the pension fund can meet its future liabilities. Please show your LP problem set up.\n"
   ]
  },
  {
   "cell_type": "markdown",
   "metadata": {},
   "source": [
    "### Solution\n",
    "\n",
    "The ALM problem comes out as \n",
    "\n",
    "\\begin{aligned}\n",
    "\\min \\sum_{i=1}^n x_i P_i\n",
    "\\end{aligned}\n",
    "\n",
    "This presupposes $n$ number of instruments. $x_i$ is the amount of each security we will purchase. $P_i$ is the price of the security. It is subject to the following constraint\n",
    "\n",
    "\\begin{aligned}\n",
    "L_t - \\sum_{i=1}^n x_i C_i\\left(t\\right) \\leq 0\n",
    "\\end{aligned}\n",
    "\n",
    "$L_t$ will be the liabilities at time $t$ and $C_i\\left(t\\right)$ will be the cashflow from security $i$ at time $t$.\n",
    "\n",
    "We therefore, in this problem, have 9 constraints from the requirement that the liabilities all be paid off.\n",
    "\n",
    "Also, since all constraints are inequalities, we may use the Lagrangian instead of the original equations. Whatever solution minimizes the Lagrangian will minimize the original problem, as well."
   ]
  },
  {
   "cell_type": "code",
   "execution_count": 97,
   "metadata": {},
   "outputs": [],
   "source": [
    "liabilities = np.array([24, 26, 28, 28, 26, 29, 32, 33, 34]) * 1e6\n",
    "Bond = collections.namedtuple('Bond', 'face,price,coupon,maturity')\n",
    "bonds = [\n",
    "    Bond(100, 102, .0125, 1),\n",
    "    Bond(100, 101.625, .015, 2),\n",
    "    Bond(100, 103, .025, 2),\n",
    "    Bond(100, 102, .0175, 3),\n",
    "    Bond(100, 102, .02125, 4),\n",
    "    Bond(100, 103, .025, 5),\n",
    "    Bond(100, 101, .02625, 5),\n",
    "    Bond(100, 101.5, .03, 6),\n",
    "    Bond(100, 102, .03125, 7),\n",
    "    Bond(100, 102.75, .035, 8),\n",
    "    Bond(100, 103, .0375, 8),\n",
    "    Bond(100, 104, .045, 9),\n",
    "]"
   ]
  },
  {
   "cell_type": "markdown",
   "metadata": {},
   "source": [
    "#### Scenario 1\n",
    "The simplest excess cash scenario is to ignore the excess cash from any liability payout gets ignored. We're assuming annual coupon payouts here for the $n=12$ bonds over the time period where $T \\leq t$, $T=9$\n",
    "\n",
    "Thus, the second constraint from above can be written as\n",
    "\n",
    "\\begin{aligned}\n",
    "L_t - \\sum_{M_i=t}F_ix_i - \\sum_{M_i \\geq t} x_i F_i c_i \\leq 0\n",
    "\\end{aligned}\n",
    "\n",
    "Where $F_i$ is the face value of bond $i$ (we presume all $F_i=100$), $x_t$ is the quantity of bond $t$ purchased, $M_i$ is the maturity of security $i$, and $c_i$ is the coupon value paid out by bond $i$.\n",
    "\n",
    "Our Lagrangian is therefore\n",
    "\n",
    "\\begin{aligned}\n",
    "\\mathscr{L}\\left(x, \\lambda\\right) = \\sum_{i=1}^n x_iP_i + \\sum_{t=1}^T \\lambda_t\\left[L_t - \\sum_{M_i=t}F_ix_i - \\sum_{M_i\\geq t} x_i F_i c_i\\right]\n",
    "\\end{aligned}\n",
    "\n",
    "As we can see here, there are no quadratic terms present. We may as well use gradient descent, since quadratic approximation leads to the second derivatives all being 0 at all times. There are several obvious benefits to doing this, the most obvious being that we do not have to figure out any equations for first derivatives -- we can simply calculate them numerically."
   ]
  },
  {
   "cell_type": "code",
   "execution_count": 117,
   "metadata": {},
   "outputs": [],
   "source": [
    "def create_no_reuse_lagrangian(bonds, liabilities):\n",
    "    n_bonds = len(bonds)\n",
    "    n_liabilities = len(liabilities)\n",
    "    ERROR_MASK = 'X must have length %d, and LAMBDA must have length %d'\n",
    "\n",
    "    def no_reuse_lagrangian(X, LAMBDA):\n",
    "        if len(X) != n_bonds or len(LAMBDA) != n_liabilities:\n",
    "            raise TypeError(ERROR_MASK % (n_bonds, n_liabilities))\n",
    "\n",
    "        original = sum(x_i*b.price for x_i, b in zip(X, bonds))\n",
    "        lambda_constraints = 0\n",
    "\n",
    "        for t, (lambda_t, liability_t) in enumerate(zip(LAMBDA, liabilities), start=1):\n",
    "            t2 = sum(b.face*x_i for b, x_i in zip(bonds, X) if b.maturity == t)\n",
    "            t3 = sum(b.face*x_i*b.coupon for b, x_i in zip(bonds, X) if b.maturity >= t)\n",
    "            lambda_constraints += (lambda_t * (liability_t - t2 - t3))\n",
    "\n",
    "        return original + lambda_constraints\n",
    "\n",
    "    return no_reuse_lagrangian"
   ]
  },
  {
   "cell_type": "markdown",
   "metadata": {},
   "source": [
    "#### Scenario 2\n",
    "Our second scenario is that the excess is reinvested at 1%. This is a bit tougher, so let us define $D_t \\equiv L_t - \\sum x_iC_i\\left(t\\right)$, and the reinvestment rate to be $r$.\n",
    "\n",
    "In such a case, we know\n",
    "\n",
    "\\begin{aligned}\n",
    "D_t \\leq 0\n",
    "\\end{aligned}\n",
    "\n",
    "$D_t$ needs to be defined:\n",
    "\n",
    "\\begin{aligned}\n",
    "D_1 = L_1 - \\sum_{M_i\\geq 1}^n x_iF_ic_i - \\sum_{M_i=1} F_ix_i\n",
    "\\end{aligned}\n",
    "\n",
    "\\begin{aligned}\n",
    "D_{t>1} = L_t - \\sum_{M_i\\geq t}^n x_iF_ic_i - \\sum_{M_i=t} F_ix_i + (1+r) D_{t-1}\n",
    "\\end{aligned}\n",
    "\n",
    "Our Lagrangian is therefore\n",
    "\n",
    "\\begin{aligned}\n",
    "\\mathscr{L}\\left(x, \\lambda\\right) = \\sum_{i=1}^n x_iP_i + \\sum_{t=1}^T \\lambda_tD_t\n",
    "\\end{aligned}"
   ]
  },
  {
   "cell_type": "code",
   "execution_count": 13,
   "metadata": {},
   "outputs": [],
   "source": [
    "def create_reuse_lagrangian(bonds, liabilities, reinvestment_rate):\n",
    "    n_bonds = len(bonds)\n",
    "    n_liabilities = len(liabilities)\n",
    "    ERROR_MASK = 'X must have length %d, MU must have length %d, and LAMBDA must have length %d'\n",
    "\n",
    "    @functools.lru_cache(max_size=n_liabilities)\n",
    "    def calculate_dt(t, X):\n",
    "        existing = liabilities[t-1]\n",
    "        existing -= sum(b.face*x_i for b, x_i in zip(bonds, X) if b.maturity == t)\n",
    "        existing -= sum(b.face*x_i*b.coupon for b, x_i in zip(bonds, X) if b.maturity >= t)\n",
    "\n",
    "        if t == 1:\n",
    "            return existing\n",
    "        else:\n",
    "            return (1+reinvestment_rate) * (calculate_dt(t-1, X, LAMBDA)) + existing\n",
    "\n",
    "    def reuse_lagrangian(X, MU, LAMBDA):\n",
    "        if len(X) != n_bonds or len(MU) != n_bonds or len(LAMBDA) != n_liabilities:\n",
    "            raise TypeError(ERROR_MASK % (n_bonds, n_bonds, n_liabilities))\n",
    "\n",
    "        original = sum(x_i*b.price for x_i, b in zip(X, bonds))\n",
    "        mu_constraints = sum(-x_i*mu_i for x_i, mu_i in zip(X, MU))\n",
    "        lambda_constraints = sum(lambda_t * calculate_dt(t, X) for t, lambda_t in enumerate(LAMBDA, start=1))\n",
    "\n",
    "        return original + mu_constraints + lambda_constraints\n",
    "\n",
    "    return reuse_lagrangian\n"
   ]
  },
  {
   "cell_type": "code",
   "execution_count": 114,
   "metadata": {},
   "outputs": [],
   "source": [
    "def perform_one_step(X_0, LAMBDA_0, lagrangian, perturb=1e-6, gamma=1e-6):\n",
    "    X_1s = [\n",
    "        np.array([x_i+(0 if i!=j else perturb) for j, x_i in enumerate(X_0)]) \n",
    "        for i in range(len((X_0)))\n",
    "    ]\n",
    "    LAMBDA_1s = [\n",
    "        np.array([lambda_i+(0 if i!=j else perturb) for j, lambda_i in enumerate(LAMBDA_0)])\n",
    "        for i in range(len(LAMBDA_0))\n",
    "    ]\n",
    "\n",
    "    base = lagrangian(X_0, LAMBDA_0)\n",
    "\n",
    "    GRAD_X = np.array([\n",
    "        (lagrangian(X_1, LAMBDA_0) - base) / perturb\n",
    "        for X_1 in X_1s\n",
    "    ])\n",
    "    GRAD_LAMBDA = np.array([\n",
    "        (lagrangian(X_0, LAMBDA_1) - base) / perturb\n",
    "        for LAMBDA_1 in LAMBDA_1s\n",
    "    ])\n",
    "    print(GRAD_LAMBDA)\n",
    "\n",
    "    return (X_0 - gamma*GRAD_X), (LAMBDA_0 - gamma*GRAD_LAMBDA)\n"
   ]
  },
  {
   "cell_type": "markdown",
   "metadata": {},
   "source": [
    "This runs, but I've made a mistake somewhere in my methodology, and this whole thing only outputs garbage -- $\\frac{\\partial\\mathscr{L}}{\\partial\\lambda}$ is extremely high. The result is that, while the Langrangean equation leads to easily solved analytic results, something's going horribly wrong with the gradient descent method, and it's garbage within roughly two steps."
   ]
  },
  {
   "cell_type": "code",
   "execution_count": null,
   "metadata": {},
   "outputs": [],
   "source": []
  }
 ],
 "metadata": {
  "kernelspec": {
   "display_name": "Python 3",
   "language": "python",
   "name": "python3"
  },
  "language_info": {
   "codemirror_mode": {
    "name": "ipython",
    "version": 3
   },
   "file_extension": ".py",
   "mimetype": "text/x-python",
   "name": "python",
   "nbconvert_exporter": "python",
   "pygments_lexer": "ipython3",
   "version": "3.6.4"
  }
 },
 "nbformat": 4,
 "nbformat_minor": 1
}
