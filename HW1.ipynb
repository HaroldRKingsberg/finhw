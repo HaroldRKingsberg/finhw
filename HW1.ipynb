{
 "cells": [
  {
   "cell_type": "code",
   "execution_count": 1,
   "metadata": {},
   "outputs": [],
   "source": [
    "### PROBLEM 1"
   ]
  },
  {
   "cell_type": "code",
   "execution_count": 2,
   "metadata": {},
   "outputs": [
    {
     "name": "stdout",
     "output_type": "stream",
     "text": [
      "Help on function function in module __main__:\n",
      "\n",
      "function(a)\n",
      "    This is a function with a docstring\n",
      "\n"
     ]
    }
   ],
   "source": [
    "### PART 1\n",
    "\n",
    "def function(a):\n",
    "    '''This is a function with a docstring'''\n",
    "    return a + 2\n",
    "\n",
    "help(function)"
   ]
  },
  {
   "cell_type": "code",
   "execution_count": 3,
   "metadata": {},
   "outputs": [
    {
     "name": "stdout",
     "output_type": "stream",
     "text": [
      "Automatic pdb calling has been turned ON\n"
     ]
    },
    {
     "ename": "ZeroDivisionError",
     "evalue": "division by zero",
     "output_type": "error",
     "traceback": [
      "\u001b[1;31m---------------------------------------------------------------------------\u001b[0m",
      "\u001b[1;31mZeroDivisionError\u001b[0m                         Traceback (most recent call last)",
      "\u001b[1;32m<ipython-input-3-c40bb996fca2>\u001b[0m in \u001b[0;36m<module>\u001b[1;34m()\u001b[0m\n\u001b[0;32m      9\u001b[0m     \u001b[1;32mreturn\u001b[0m \u001b[0mdiv\u001b[0m\u001b[1;33m(\u001b[0m\u001b[0ma\u001b[0m\u001b[1;33m,\u001b[0m \u001b[0mb\u001b[0m\u001b[1;33m)\u001b[0m\u001b[1;33m\u001b[0m\u001b[0m\n\u001b[0;32m     10\u001b[0m \u001b[1;33m\u001b[0m\u001b[0m\n\u001b[1;32m---> 11\u001b[1;33m \u001b[0mbug\u001b[0m\u001b[1;33m(\u001b[0m\u001b[1;36m3\u001b[0m\u001b[1;33m,\u001b[0m \u001b[1;36m0\u001b[0m\u001b[1;33m)\u001b[0m\u001b[1;33m\u001b[0m\u001b[0m\n\u001b[0m",
      "\u001b[1;32m<ipython-input-3-c40bb996fca2>\u001b[0m in \u001b[0;36mbug\u001b[1;34m(a, b)\u001b[0m\n\u001b[0;32m      7\u001b[0m \u001b[1;33m\u001b[0m\u001b[0m\n\u001b[0;32m      8\u001b[0m \u001b[1;32mdef\u001b[0m \u001b[0mbug\u001b[0m\u001b[1;33m(\u001b[0m\u001b[0ma\u001b[0m\u001b[1;33m,\u001b[0m \u001b[0mb\u001b[0m\u001b[1;33m)\u001b[0m\u001b[1;33m:\u001b[0m\u001b[1;33m\u001b[0m\u001b[0m\n\u001b[1;32m----> 9\u001b[1;33m     \u001b[1;32mreturn\u001b[0m \u001b[0mdiv\u001b[0m\u001b[1;33m(\u001b[0m\u001b[0ma\u001b[0m\u001b[1;33m,\u001b[0m \u001b[0mb\u001b[0m\u001b[1;33m)\u001b[0m\u001b[1;33m\u001b[0m\u001b[0m\n\u001b[0m\u001b[0;32m     10\u001b[0m \u001b[1;33m\u001b[0m\u001b[0m\n\u001b[0;32m     11\u001b[0m \u001b[0mbug\u001b[0m\u001b[1;33m(\u001b[0m\u001b[1;36m3\u001b[0m\u001b[1;33m,\u001b[0m \u001b[1;36m0\u001b[0m\u001b[1;33m)\u001b[0m\u001b[1;33m\u001b[0m\u001b[0m\n",
      "\u001b[1;32m<ipython-input-3-c40bb996fca2>\u001b[0m in \u001b[0;36mdiv\u001b[1;34m(x, y)\u001b[0m\n\u001b[0;32m      4\u001b[0m \u001b[1;33m\u001b[0m\u001b[0m\n\u001b[0;32m      5\u001b[0m \u001b[1;32mdef\u001b[0m \u001b[0mdiv\u001b[0m\u001b[1;33m(\u001b[0m\u001b[0mx\u001b[0m\u001b[1;33m,\u001b[0m \u001b[0my\u001b[0m\u001b[1;33m)\u001b[0m\u001b[1;33m:\u001b[0m\u001b[1;33m\u001b[0m\u001b[0m\n\u001b[1;32m----> 6\u001b[1;33m     \u001b[1;32mreturn\u001b[0m \u001b[0mx\u001b[0m\u001b[1;33m/\u001b[0m\u001b[0my\u001b[0m\u001b[1;33m\u001b[0m\u001b[0m\n\u001b[0m\u001b[0;32m      7\u001b[0m \u001b[1;33m\u001b[0m\u001b[0m\n\u001b[0;32m      8\u001b[0m \u001b[1;32mdef\u001b[0m \u001b[0mbug\u001b[0m\u001b[1;33m(\u001b[0m\u001b[0ma\u001b[0m\u001b[1;33m,\u001b[0m \u001b[0mb\u001b[0m\u001b[1;33m)\u001b[0m\u001b[1;33m:\u001b[0m\u001b[1;33m\u001b[0m\u001b[0m\n",
      "\u001b[1;31mZeroDivisionError\u001b[0m: division by zero"
     ]
    },
    {
     "name": "stdout",
     "output_type": "stream",
     "text": [
      "> \u001b[1;32m<ipython-input-3-c40bb996fca2>\u001b[0m(6)\u001b[0;36mdiv\u001b[1;34m()\u001b[0m\n",
      "\u001b[1;32m      4 \u001b[1;33m\u001b[1;33m\u001b[0m\u001b[0m\n",
      "\u001b[0m\u001b[1;32m      5 \u001b[1;33m\u001b[1;32mdef\u001b[0m \u001b[0mdiv\u001b[0m\u001b[1;33m(\u001b[0m\u001b[0mx\u001b[0m\u001b[1;33m,\u001b[0m \u001b[0my\u001b[0m\u001b[1;33m)\u001b[0m\u001b[1;33m:\u001b[0m\u001b[1;33m\u001b[0m\u001b[0m\n",
      "\u001b[0m\u001b[1;32m----> 6 \u001b[1;33m    \u001b[1;32mreturn\u001b[0m \u001b[0mx\u001b[0m\u001b[1;33m/\u001b[0m\u001b[0my\u001b[0m\u001b[1;33m\u001b[0m\u001b[0m\n",
      "\u001b[0m\u001b[1;32m      7 \u001b[1;33m\u001b[1;33m\u001b[0m\u001b[0m\n",
      "\u001b[0m\u001b[1;32m      8 \u001b[1;33m\u001b[1;32mdef\u001b[0m \u001b[0mbug\u001b[0m\u001b[1;33m(\u001b[0m\u001b[0ma\u001b[0m\u001b[1;33m,\u001b[0m \u001b[0mb\u001b[0m\u001b[1;33m)\u001b[0m\u001b[1;33m:\u001b[0m\u001b[1;33m\u001b[0m\u001b[0m\n",
      "\u001b[0m\n",
      "ipdb> u\n",
      "> \u001b[1;32m<ipython-input-3-c40bb996fca2>\u001b[0m(9)\u001b[0;36mbug\u001b[1;34m()\u001b[0m\n",
      "\u001b[1;32m      7 \u001b[1;33m\u001b[1;33m\u001b[0m\u001b[0m\n",
      "\u001b[0m\u001b[1;32m      8 \u001b[1;33m\u001b[1;32mdef\u001b[0m \u001b[0mbug\u001b[0m\u001b[1;33m(\u001b[0m\u001b[0ma\u001b[0m\u001b[1;33m,\u001b[0m \u001b[0mb\u001b[0m\u001b[1;33m)\u001b[0m\u001b[1;33m:\u001b[0m\u001b[1;33m\u001b[0m\u001b[0m\n",
      "\u001b[0m\u001b[1;32m----> 9 \u001b[1;33m    \u001b[1;32mreturn\u001b[0m \u001b[0mdiv\u001b[0m\u001b[1;33m(\u001b[0m\u001b[0ma\u001b[0m\u001b[1;33m,\u001b[0m \u001b[0mb\u001b[0m\u001b[1;33m)\u001b[0m\u001b[1;33m\u001b[0m\u001b[0m\n",
      "\u001b[0m\u001b[1;32m     10 \u001b[1;33m\u001b[1;33m\u001b[0m\u001b[0m\n",
      "\u001b[0m\u001b[1;32m     11 \u001b[1;33m\u001b[0mbug\u001b[0m\u001b[1;33m(\u001b[0m\u001b[1;36m3\u001b[0m\u001b[1;33m,\u001b[0m \u001b[1;36m0\u001b[0m\u001b[1;33m)\u001b[0m\u001b[1;33m\u001b[0m\u001b[0m\n",
      "\u001b[0m\n",
      "ipdb> a\n",
      "a = 3\n",
      "b = 0\n",
      "ipdb> q\n"
     ]
    }
   ],
   "source": [
    "### PART 2\n",
    "\n",
    "%pdb on\n",
    "\n",
    "def div(x, y):\n",
    "    return x/y\n",
    "\n",
    "def bug(a, b):\n",
    "    return div(a, b)\n",
    "\n",
    "bug(3, 0)"
   ]
  },
  {
   "cell_type": "code",
   "execution_count": null,
   "metadata": {},
   "outputs": [],
   "source": []
  },
  {
   "cell_type": "code",
   "execution_count": null,
   "metadata": {},
   "outputs": [],
   "source": []
  },
  {
   "cell_type": "code",
   "execution_count": 5,
   "metadata": {},
   "outputs": [],
   "source": [
    "### PROBLEM 2"
   ]
  },
  {
   "cell_type": "code",
   "execution_count": 6,
   "metadata": {},
   "outputs": [
    {
     "data": {
      "text/latex": [
       "The function is \n",
       "\n",
       "\\begin{equation}\n",
       "f(\\kappa) = \\frac{r_0\\sigma^2}{\\kappa}\\left(\\exp\\left(-\\kappa t\\right) - \\exp\\left(-2\\kappa t\\right)\\right)\n",
       "\\end{equation}\n",
       "\n",
       "As $f$ is a univariate function, we can calculate the condition number quite simply as:\n",
       "\n",
       "\\begin{equation}\n",
       "k\\left(f\\right) = \\left|\\frac{\\kappa f'\\left(\\kappa\\right)}{f\\left(\\kappa\\right)}\\right|\n",
       "\\end{equation}\n",
       "\n",
       "Using the quotient rule, we can find $f'\\left(\\kappa\\right)$\n",
       "\n",
       "\n",
       "\\begin{equation}\n",
       "f'\\left(\\kappa\\right) = \\frac{r_0\\sigma^2\\left(2\\kappa t\\exp\\left(-2\\kappa t\\right) + \\exp\\left(-2\\kappa t\\right) - \\kappa t\\exp\\left(-\\kappa t\\right) - \\exp\\left(-\\kappa t\\right)\\right)}{\\kappa^2}\n",
       "\\end{equation}\n",
       "\n",
       "Substituting this into the condition function, we end up with\n",
       "\n",
       "\\begin{equation}\n",
       "k\\left(f\\right) = \\frac{2\\kappa t\\exp\\left(-2\\kappa t\\right) + \\exp\\left(-2\\kappa t\\right) - \\kappa t\\exp\\left(-\\kappa t\\right) - \\exp\\left(-\\kappa t\\right)}{\\exp\\left(-\\kappa t\\right) - \\exp\\left(-2\\kappa t\\right)}\n",
       "\\end{equation}\n",
       "\n",
       "This can also be represented as\n",
       "\n",
       "\n",
       "\\begin{equation}\n",
       "k\\left(f\\right) = \\kappa t\\frac{2\\exp\\left(-2\\kappa t\\right) - \\exp\\left(-\\kappa t\\right)}{\\exp\\left(-\\kappa t\\right) - \\exp\\left(-2\\kappa t\\right)} - 1\n",
       "\\end{equation}\n",
       "\n",
       "When $\\kappa = 0$, this simplifies to $\\frac{0}{0}$. Thus, the function is unstable when $\\kappa = 0$"
      ],
      "text/plain": [
       "<IPython.core.display.Latex object>"
      ]
     },
     "metadata": {},
     "output_type": "display_data"
    }
   ],
   "source": [
    "%%latex\n",
    "The function is \n",
    "\n",
    "\\begin{equation}\n",
    "f(\\kappa) = \\frac{r_0\\sigma^2}{\\kappa}\\left(\\exp\\left(-\\kappa t\\right) - \\exp\\left(-2\\kappa t\\right)\\right)\n",
    "\\end{equation}\n",
    "\n",
    "As $f$ is a univariate function, we can calculate the condition number quite simply as:\n",
    "\n",
    "\\begin{equation}\n",
    "k\\left(f\\right) = \\left|\\frac{\\kappa f'\\left(\\kappa\\right)}{f\\left(\\kappa\\right)}\\right|\n",
    "\\end{equation}\n",
    "\n",
    "Using the quotient rule, we can find $f'\\left(\\kappa\\right)$\n",
    "\n",
    "\n",
    "\\begin{equation}\n",
    "f'\\left(\\kappa\\right) = \\frac{r_0\\sigma^2\\left(2\\kappa t\\exp\\left(-2\\kappa t\\right) + \\exp\\left(-2\\kappa t\\right) - \\kappa t\\exp\\left(-\\kappa t\\right) - \\exp\\left(-\\kappa t\\right)\\right)}{\\kappa^2}\n",
    "\\end{equation}\n",
    "\n",
    "Substituting this into the condition function, we end up with\n",
    "\n",
    "\\begin{equation}\n",
    "k\\left(f\\right) = \\frac{2\\kappa t\\exp\\left(-2\\kappa t\\right) + \\exp\\left(-2\\kappa t\\right) - \\kappa t\\exp\\left(-\\kappa t\\right) - \\exp\\left(-\\kappa t\\right)}{\\exp\\left(-\\kappa t\\right) - \\exp\\left(-2\\kappa t\\right)}\n",
    "\\end{equation}\n",
    "\n",
    "This can also be represented as\n",
    "\n",
    "\n",
    "\\begin{equation}\n",
    "k\\left(f\\right) = \\kappa t\\frac{2\\exp\\left(-2\\kappa t\\right) - \\exp\\left(-\\kappa t\\right)}{\\exp\\left(-\\kappa t\\right) - \\exp\\left(-2\\kappa t\\right)} - 1\n",
    "\\end{equation}\n",
    "\n",
    "When $\\kappa = 0$, this simplifies to $\\frac{0}{0}$. Thus, the function is unstable when $\\kappa = 0$"
   ]
  },
  {
   "cell_type": "code",
   "execution_count": 7,
   "metadata": {},
   "outputs": [
    {
     "data": {
      "text/latex": [
       "We know that, for a given exponential equation $\\exp\\left(kx\\right)$, the Maclaurin series expansion is\n",
       "\n",
       "\\begin{equation}\n",
       "\\sum_{n=0}^\\infty \\frac{k^nx^n}{n!}\n",
       "\\end{equation}\n",
       "\n",
       "Thus, in our case, where we have an exponential expression of the form \n",
       "$\\exp\\left(-kx\\right) - \\exp\\left(-2kx\\right)$ can also be expressed as\n",
       "\n",
       "\\begin{equation}\n",
       "\\sum_{n=0}^\\infty \\frac{\\left(-1\\right)^nk^nx^n}{n!} - \\frac{\\left(-1\\right)^n2^nk^nx^n}{n!}\n",
       "\\end{equation}\n",
       "\n",
       "Which can be further simplified to\n",
       "\n",
       "\\begin{equation}\n",
       "\\sum_{n=0}^\\infty \\frac{\\left(-1\\right)^n\\left(1 - 2^n\\right)k^nx^n}{n!}\n",
       "\\end{equation}\n",
       "\n",
       "$f$ can therefore be represented as \n",
       "\n",
       "\\begin{equation}\n",
       "f\\left(\\kappa\\right) = \\frac{r_0\\sigma^2}{\\kappa}\\sum_{n=0}^\\infty \\frac{\\left(-1\\right)^n\\left(1 - 2^n\\right)t^n\\kappa^n}{n!}\n",
       "\\end{equation}\n",
       "\n",
       "However, this means we'll still be doing subtraction of extremely small numbers, so this approach won't work.\n",
       "Thus, we're simply going to have to approximate using a slightly less rigorous method. Let's consider curve fitting"
      ],
      "text/plain": [
       "<IPython.core.display.Latex object>"
      ]
     },
     "metadata": {},
     "output_type": "display_data"
    }
   ],
   "source": [
    "%%latex\n",
    "We know that, for a given exponential equation $\\exp\\left(kx\\right)$, the Maclaurin series expansion is\n",
    "\n",
    "\\begin{equation}\n",
    "\\sum_{n=0}^\\infty \\frac{k^nx^n}{n!}\n",
    "\\end{equation}\n",
    "\n",
    "Thus, in our case, where we have an exponential expression of the form \n",
    "$\\exp\\left(-kx\\right) - \\exp\\left(-2kx\\right)$ can also be expressed as\n",
    "\n",
    "\\begin{equation}\n",
    "\\sum_{n=0}^\\infty \\frac{\\left(-1\\right)^nk^nx^n}{n!} - \\frac{\\left(-1\\right)^n2^nk^nx^n}{n!}\n",
    "\\end{equation}\n",
    "\n",
    "Which can be further simplified to\n",
    "\n",
    "\\begin{equation}\n",
    "\\sum_{n=0}^\\infty \\frac{\\left(-1\\right)^n\\left(1 - 2^n\\right)k^nx^n}{n!}\n",
    "\\end{equation}\n",
    "\n",
    "$f$ can therefore be represented as \n",
    "\n",
    "\\begin{equation}\n",
    "f\\left(\\kappa\\right) = \\frac{r_0\\sigma^2}{\\kappa}\\sum_{n=0}^\\infty \\frac{\\left(-1\\right)^n\\left(1 - 2^n\\right)t^n\\kappa^n}{n!}\n",
    "\\end{equation}\n",
    "\n",
    "However, this means we'll still be doing subtraction of extremely small numbers, so this approach won't work.\n",
    "Thus, we're simply going to have to approximate using a slightly less rigorous method. Let's consider curve fitting"
   ]
  },
  {
   "cell_type": "code",
   "execution_count": 9,
   "metadata": {},
   "outputs": [
    {
     "data": {
      "text/plain": [
       "<matplotlib.figure.Figure at 0x20d1d435f98>"
      ]
     },
     "execution_count": 9,
     "metadata": {},
     "output_type": "execute_result"
    },
    {
     "data": {
      "image/png": "[encoded data removed]",
      "text/plain": [
       "<matplotlib.figure.Figure at 0x20d1c33e518>"
      ]
     },
     "metadata": {},
     "output_type": "display_data"
    },
    {
     "data": {
      "text/plain": [
       "<matplotlib.figure.Figure at 0x20d1d435f98>"
      ]
     },
     "metadata": {},
     "output_type": "display_data"
    }
   ],
   "source": [
    "import numpy as np\n",
    "import matplotlib.pyplot as plt\n",
    "\n",
    "def exponential_subtraction(kappa, t):\n",
    "    return np.exp(np.float32(-1) * kappa * t) - np.exp(np.float32(-2) * kappa * t)\n",
    "\n",
    "\n",
    "x = np.array([np.float32(0.5**i) for i in range(4, 26)])\n",
    "y1 = np.array([exponential_subtraction(k, 1) for k in x])\n",
    "y2 = np.array([exponential_subtraction(k, 2) for k in x])\n",
    "y4 = np.array([exponential_subtraction(k, 4) for k in x])\n",
    "\n",
    "plt.plot(x, y1, label='t=1')\n",
    "plt.plot(x, y2, label='t=2')\n",
    "plt.plot(x, y4, label='t=4')\n",
    "plt.xscale('log')\n",
    "plt.yscale('log')\n",
    "plt.legend()\n",
    "plt.figure()"
   ]
  },
  {
   "cell_type": "code",
   "execution_count": 10,
   "metadata": {},
   "outputs": [
    {
     "data": {
      "text/latex": [
       "\n",
       "As seen in the above section, when plotted on a log-log scale, the exponential subtraction (the ill-posed part of the problem) \n",
       "comes out as a straight line. This implies we should be able to fit it to a function quite easily."
      ],
      "text/plain": [
       "<IPython.core.display.Latex object>"
      ]
     },
     "metadata": {},
     "output_type": "display_data"
    }
   ],
   "source": [
    "%%latex\n",
    "\n",
    "As seen in the above section, when plotted on a log-log scale, the exponential subtraction (the ill-posed part of the problem) \n",
    "comes out as a straight line. This implies we should be able to fit it to a function quite easily."
   ]
  },
  {
   "cell_type": "code",
   "execution_count": 11,
   "metadata": {},
   "outputs": [
    {
     "data": {
      "image/png": "[encoded data removed]",
      "text/plain": [
       "<matplotlib.figure.Figure at 0x20d1e659d30>"
      ]
     },
     "metadata": {},
     "output_type": "display_data"
    }
   ],
   "source": [
    "import numpy as np\n",
    "import matplotlib.pyplot as plt\n",
    "from scipy.optimize import curve_fit\n",
    "\n",
    "def exponential_subtraction(kappa, t):\n",
    "    return np.exp(-1 * kappa * t) - np.exp(-2 * kappa * t)\n",
    "\n",
    "\n",
    "def fitness(k, a, b):\n",
    "    return b + k*a\n",
    "\n",
    "\n",
    "def create_fn(t):\n",
    "    x = np.array([0.5**i for i in range(4, 30)])\n",
    "    y = np.array([exponential_subtraction(k, t) for k in x])\n",
    "    (a, b), _ = curve_fit(fitness, np.log10(x), np.log10(y))\n",
    "    return lambda k: np.power(np.float64(10), b) * np.power(k, a)\n",
    "\n",
    "\n",
    "for i in range(5):\n",
    "    plt.subplot(5, 1, i+1)\n",
    "    t = 2**i\n",
    "    f = create_fn(t)\n",
    "\n",
    "    y = np.array([exponential_subtraction(k, t) for k in x])\n",
    "    \n",
    "    y_fitted = np.array([f(k) for k in x])\n",
    "    plt.plot(x, y, label='Observed')\n",
    "    plt.plot(x, y_fitted, label='fitted')\n",
    "    plt.xscale('log')\n",
    "    plt.yscale('log')\n",
    "    plt.legend()\n"
   ]
  },
  {
   "cell_type": "code",
   "execution_count": 12,
   "metadata": {},
   "outputs": [
    {
     "data": {
      "text/latex": [
       "Now, we know that we lose $\\log_{2} k\\left(f\\right)$ bits of precision. Thus, a problem with a condition \n",
       "number of 256 will lose 8 bits of precision. Doubles are, by nature, more precise than floats, so we can\n",
       "lose more bits there before seeing the same effects -- the double has a significant 33 bits longer than\n",
       "does a float.\n",
       "\n",
       "What this means is that the condition number of the double formation of the problem can be significantly\n",
       "higher than the condition number of the float. But first, let's plot the condition number."
      ],
      "text/plain": [
       "<IPython.core.display.Latex object>"
      ]
     },
     "metadata": {},
     "output_type": "display_data"
    }
   ],
   "source": [
    "%%latex\n",
    "Now, we know that we lose $\\log_{2} k\\left(f\\right)$ bits of precision. Thus, a problem with a condition \n",
    "number of 256 will lose 8 bits of precision. Doubles are, by nature, more precise than floats, so we can\n",
    "lose more bits there before seeing the same effects -- the double has a significant 33 bits longer than\n",
    "does a float.\n",
    "\n",
    "What this means is that the condition number of the double formation of the problem can be significantly\n",
    "higher than the condition number of the float. But first, let's plot the condition number."
   ]
  },
  {
   "cell_type": "code",
   "execution_count": 13,
   "metadata": {},
   "outputs": [
    {
     "data": {
      "image/png": "[encoded data removed]",
      "text/plain": [
       "<matplotlib.figure.Figure at 0x20d26db6588>"
      ]
     },
     "metadata": {},
     "output_type": "display_data"
    }
   ],
   "source": [
    "import numpy as np\n",
    "import matplotlib.pyplot as plt\n",
    "from scipy.optimize import curve_fit\n",
    "\n",
    "def exponential_subtraction(kappa, t):\n",
    "    if isinstance(kappa, np.float32):\n",
    "        return np.exp(np.float32(-1) * kappa * t) - np.exp(np.float32(-2) * kappa * t)\n",
    "    else:\n",
    "        return np.exp(np.float64(-1) * kappa * t) - np.exp(np.float64(-2) * kappa * t)\n",
    "\n",
    "\n",
    "def find_condition_number(kappa, t):\n",
    "    f1 = kappa*t/exponential_subtraction(kappa, t)\n",
    "\n",
    "    if isinstance(f1, np.float32):\n",
    "        f2 = np.float32(2)*np.exp(np.float32(-2) * kappa * t) + np.exp(np.float32(-1) * kappa * t) - exponential_subtraction(kappa, t)\n",
    "    else:\n",
    "        f2 = np.float32(2)*np.exp(np.float64(-2) * kappa * t) + np.exp(np.float64(-1) * kappa * t) - exponential_subtraction(kappa, t)\n",
    "\n",
    "    return np.abs(f1*f2)\n",
    "\n",
    "\n",
    "\n",
    "x = np.array([np.power(np.float64(.5), np.float64(i)) for i in range(55)])\n",
    "y = np.array([find_condition_number(k, np.float64(1)) for k in x])\n",
    "\n",
    "plt.plot(x, y, 'bx')\n",
    "plt.xscale('log')"
   ]
  },
  {
   "cell_type": "code",
   "execution_count": 14,
   "metadata": {},
   "outputs": [
    {
     "data": {
      "text/latex": [
       "Oddly, this graph shows an asymptote of 3 for our condition number. Either the condition number calculation itself\n",
       "is ill-posed, or else I have misjudged the cancellation from earlier, and the problem is in fact well-posed. However,\n",
       "because I do not actually know which it is, I will simply provide the ability to create functions that switch over at\n",
       "any given threshold, thus allowing user configuration."
      ],
      "text/plain": [
       "<IPython.core.display.Latex object>"
      ]
     },
     "metadata": {},
     "output_type": "display_data"
    }
   ],
   "source": [
    "%%latex\n",
    "Oddly, this graph shows an asymptote of 3 for our condition number. Either the condition number calculation itself\n",
    "is ill-posed, or else I have misjudged the cancellation from earlier, and the problem is in fact well-posed. However,\n",
    "because I do not actually know which it is, I will simply provide the ability to create functions that switch over at\n",
    "any given threshold, thus allowing user configuration."
   ]
  },
  {
   "cell_type": "code",
   "execution_count": 15,
   "metadata": {},
   "outputs": [],
   "source": [
    "import numpy as np\n",
    "import matplotlib.pyplot as plt\n",
    "from scipy.optimize import curve_fit\n",
    "\n",
    "def exponential_subtraction(kappa, t):\n",
    "    if isinstance(kappa, np.float32):\n",
    "        return np.exp(np.float32(-1) * kappa * t) - np.exp(np.float32(-2) * kappa * t)\n",
    "    else:\n",
    "        return np.exp(np.float64(-1) * kappa * t) - np.exp(np.float64(-2) * kappa * t)\n",
    "\n",
    "\n",
    "def fitness(k, a, b):\n",
    "    return b + k*a\n",
    "\n",
    "\n",
    "def create_fn(t):\n",
    "    x = np.array([0.5**i for i in range(4, 30)])\n",
    "    y = np.array([exponential_subtraction(k, t) for k in x])\n",
    "    (a, b), _ = curve_fit(fitness, np.log10(x), np.log10(y))\n",
    "    return lambda k: np.power(np.float64(10), b) * np.power(k, a)\n",
    "\n",
    "\n",
    "def create_term_function(threshold):\n",
    "\n",
    "    def fn(kappa, t, sigma, r_0):\n",
    "        if kappa*t > threshold:\n",
    "            return r_0*np.power(sigma, type(sigma)(2))*exponential_subtraction(kappa, t)/kappa\n",
    "        else:\n",
    "            exp_factor = create_fn(t)(k)\n",
    "            return r_0*np.power(sigma, type(sigma)(2))*exp_factor/kappa\n",
    "\n",
    "    return fn"
   ]
  },
  {
   "cell_type": "code",
   "execution_count": null,
   "metadata": {},
   "outputs": [],
   "source": []
  },
  {
   "cell_type": "code",
   "execution_count": null,
   "metadata": {},
   "outputs": [],
   "source": []
  },
  {
   "cell_type": "code",
   "execution_count": 16,
   "metadata": {},
   "outputs": [],
   "source": [
    "### PROBLEM 3"
   ]
  },
  {
   "cell_type": "code",
   "execution_count": 17,
   "metadata": {},
   "outputs": [
    {
     "name": "stdout",
     "output_type": "stream",
     "text": [
      "8.73 µs ± 467 ns per loop (mean ± std. dev. of 7 runs, 3000 loops each)\n",
      "23.6 µs ± 3.45 µs per loop (mean ± std. dev. of 7 runs, 3000 loops each)\n",
      "44.5 µs ± 2.43 µs per loop (mean ± std. dev. of 7 runs, 3000 loops each)\n",
      "76.1 µs ± 12.3 µs per loop (mean ± std. dev. of 7 runs, 3000 loops each)\n",
      "96.3 µs ± 2 µs per loop (mean ± std. dev. of 7 runs, 3000 loops each)\n",
      "141 µs ± 14.2 µs per loop (mean ± std. dev. of 7 runs, 3000 loops each)\n",
      "177 µs ± 5.05 µs per loop (mean ± std. dev. of 7 runs, 3000 loops each)\n",
      "224 µs ± 2.12 µs per loop (mean ± std. dev. of 7 runs, 3000 loops each)\n",
      "296 µs ± 16 µs per loop (mean ± std. dev. of 7 runs, 3000 loops each)\n",
      "346 µs ± 7.34 µs per loop (mean ± std. dev. of 7 runs, 3000 loops each)\n"
     ]
    },
    {
     "data": {
      "text/plain": [
       "<matplotlib.figure.Figure at 0x20d1d410eb8>"
      ]
     },
     "execution_count": 17,
     "metadata": {},
     "output_type": "execute_result"
    },
    {
     "data": {
      "image/png": "[encoded data removed]",
      "text/plain": [
       "<matplotlib.figure.Figure at 0x20d1d454e10>"
      ]
     },
     "metadata": {},
     "output_type": "display_data"
    },
    {
     "data": {
      "text/plain": [
       "<matplotlib.figure.Figure at 0x20d1d410eb8>"
      ]
     },
     "metadata": {},
     "output_type": "display_data"
    }
   ],
   "source": [
    "import matplotlib.pyplot as plt\n",
    "import numpy as np\n",
    "import operator\n",
    "\n",
    "A = np.array([[1,2,3], [4,5,6], [7,8,9]])\n",
    "B = A+1\n",
    "D = np.array([[1], [2], [3]])\n",
    "\n",
    "def matrix_multiplier(A, B):\n",
    "    A_rows = len(A)\n",
    "    B_rows = len(B)\n",
    "    B = B.transpose()\n",
    "    B_cols = len(B)\n",
    "    output = np.array([np.zeros(B_cols) for _ in range(A_rows)])\n",
    "\n",
    "    for i, A_i in enumerate(A):\n",
    "        for j, B_j in enumerate(B):\n",
    "            if len(A_i) != len(B_j):\n",
    "                raise ValueError(\"Matrices do not conform!\")\n",
    "            output[i][j] = (A_i*B_j).sum()\n",
    "\n",
    "    return output\n",
    "\n",
    "    \n",
    "matrix_multiplier(A, B)\n",
    "\n",
    "dot_results = []\n",
    "fn_results = []\n",
    "\n",
    "for x in range(1, 11):\n",
    "    A = np.array([np.zeros(x) for _ in range(x)])\n",
    "\n",
    "    for i in range(x):\n",
    "        for j in range(x):\n",
    "            A[i][j] = i*x + j + 1\n",
    "\n",
    "    B = A+1\n",
    "    dot_val = %timeit -o -q -n 3000 A.dot(B)\n",
    "    dot_results.append(dot_val.average)\n",
    "\n",
    "    fn_val = %timeit -o -n 3000 matrix_multiplier(A, B)\n",
    "    fn_results.append(fn_val.average)\n",
    "\n",
    "dot_results = np.array(dot_results)\n",
    "fn_results = np.array(fn_results)\n",
    "diff = fn_results - dot_results\n",
    "x = np.array(range(1, 11))\n",
    "plt.yscale('log')\n",
    "plt.title('Comparison of Matrix Multiplication Methods')\n",
    "plt.xlabel('Size of Matrix (nxn)')\n",
    "plt.ylabel('User Defined Function - numpy Function (s)')\n",
    "plt.plot(x, diff)\n",
    "plt.figure()"
   ]
  },
  {
   "cell_type": "code",
   "execution_count": null,
   "metadata": {},
   "outputs": [],
   "source": []
  },
  {
   "cell_type": "code",
   "execution_count": null,
   "metadata": {},
   "outputs": [],
   "source": []
  },
  {
   "cell_type": "code",
   "execution_count": 18,
   "metadata": {},
   "outputs": [],
   "source": [
    "### PROBLEM 4"
   ]
  },
  {
   "cell_type": "code",
   "execution_count": 20,
   "metadata": {},
   "outputs": [
    {
     "data": {
      "image/png": "[encoded data removed]",
      "text/plain": [
       "<matplotlib.figure.Figure at 0x20d27f3bfd0>"
      ]
     },
     "metadata": {},
     "output_type": "display_data"
    }
   ],
   "source": [
    "### PART A\n",
    "\n",
    "import matplotlib.pyplot as plt\n",
    "import numpy as np\n",
    "\n",
    "\n",
    "def create_values(n, c, t):\n",
    "    c = t(c)\n",
    "    if n == 0:\n",
    "        return np.array([t(1)])\n",
    "    \n",
    "    base = np.array([t(1), t(1)])\n",
    "\n",
    "    for i in range(n-1):\n",
    "        new = base[i] + c*base[i+1]\n",
    "        base = np.append(base, new)\n",
    "\n",
    "    return base\n",
    "\n",
    "N = 100\n",
    "fib_float = create_values(N, 1, np.float32)\n",
    "pib_float = create_values(N, np.float32(1+np.sqrt(np.float32(3)/np.float32(100))), np.float32)\n",
    "fib_double = create_values(N, 1, np.float64)\n",
    "pib_double = create_values(N, np.float64(1+np.sqrt(np.float64(3)/np.float64(100))), np.float64)\n",
    "\n",
    "x = np.array(range(0, N+1))\n",
    "plt.subplot(211)\n",
    "plt.yscale('log')\n",
    "plt.plot(x, fib_float, label='Fib32')\n",
    "plt.plot(x, pib_float, label='Pib32')\n",
    "plt.plot(x, np.array([1/np.finfo(np.float32).eps for _ in range(N+1)]), label='1/error32')\n",
    "plt.legend()\n",
    "plt.subplot(212)\n",
    "plt.yscale('log')\n",
    "plt.plot(x, fib_double, label='Fib64')\n",
    "plt.plot(x, pib_double, label='Pib64')\n",
    "plt.plot(x, np.array([1/np.finfo(np.float64).eps for _ in range(N+1)]), label='1/error64')\n",
    "plt.legend()\n",
    "plt.show()"
   ]
  },
  {
   "cell_type": "code",
   "execution_count": 21,
   "metadata": {},
   "outputs": [
    {
     "name": "stdout",
     "output_type": "stream",
     "text": [
      "No accuracy on float32 starting from n=46\n",
      "No accuracy on float64 starting from n=85\n"
     ]
    },
    {
     "data": {
      "image/png": "[encoded data removed]",
      "text/plain": [
       "<matplotlib.figure.Figure at 0x20d27ef3128>"
      ]
     },
     "metadata": {},
     "output_type": "display_data"
    }
   ],
   "source": [
    "### PART B\n",
    "\n",
    "import matplotlib.pyplot as plt\n",
    "import numpy as np\n",
    "\n",
    "\n",
    "def create_values(n, t):\n",
    "    if n == 0:\n",
    "        return np.array([t(1)])\n",
    "    \n",
    "    base = np.array([t(1), t(1)])\n",
    "\n",
    "    for i in range(n-1):\n",
    "        new = base[i] + base[i+1]\n",
    "        base = np.append(base, new)\n",
    "\n",
    "    return base\n",
    "\n",
    "def find_starting_value(n, t):\n",
    "    base = create_values(n, t)\n",
    "    n -= 1\n",
    "    f = base[-1]\n",
    "    while n > 0:\n",
    "        n -= 1\n",
    "        f -= base[n]\n",
    "    return f - t(1)\n",
    "\n",
    "find_starting_value(4, np.float32)\n",
    "\n",
    "x = np.array(range(101))\n",
    "f = np.array([find_starting_value(i, np.float32) for i in range(101)])\n",
    "d = np.array([find_starting_value(i, np.float64) for i in range(101)])\n",
    "\n",
    "plt.title(\"Fibonacci Numbers Error (Absolute Difference)\")\n",
    "plt.yscale('log')\n",
    "plt.xlabel('n')\n",
    "plt.ylabel('|e|')\n",
    "plt.plot(x, f, label='float32')\n",
    "plt.plot(x, d, label='float64')\n",
    "plt.legend()\n",
    "\n",
    "for arr, t in [(f, 'float32'), (d, 'float64')]:\n",
    "    for i, elem in enumerate(arr):\n",
    "        if elem >= 1:\n",
    "            print(\"No accuracy on %s starting from n=%d\" % (t, i))\n",
    "            break"
   ]
  },
  {
   "cell_type": "code",
   "execution_count": 22,
   "metadata": {},
   "outputs": [
    {
     "name": "stdout",
     "output_type": "stream",
     "text": [
      "No accuracy on float32 starting from n=11\n",
      "No accuracy on float64 starting from n=11\n"
     ]
    },
    {
     "data": {
      "image/png": "[encoded data removed]",
      "text/plain": [
       "<matplotlib.figure.Figure at 0x20d27ef3390>"
      ]
     },
     "metadata": {},
     "output_type": "display_data"
    }
   ],
   "source": [
    "### PART C\n",
    "\n",
    "import matplotlib.pyplot as plt\n",
    "import numpy as np\n",
    "\n",
    "\n",
    "def create_values(n, c, t):\n",
    "    if n == 0:\n",
    "        return np.array([t(1)])\n",
    "    \n",
    "    base = np.array([t(1), t(1)])\n",
    "\n",
    "    for i in range(n-1):\n",
    "        new = base[i] + base[i+1]*c\n",
    "        base = np.append(base, new)\n",
    "\n",
    "    return base\n",
    "\n",
    "def find_starting_value(n, c, t):\n",
    "    c = t(c)\n",
    "    base = create_values(n, c, t)\n",
    "    n -= 1\n",
    "    f = base[-1]\n",
    "    while n > 0:\n",
    "        n -= 1\n",
    "        f -= (base[n]*c)\n",
    "    return f - t(1)\n",
    "\n",
    "c = 1 + np.sqrt(3)/100\n",
    "x = np.array(range(101))\n",
    "f = np.array([find_starting_value(i, c, np.float32) for i in range(101)])\n",
    "d = np.array([find_starting_value(i, c, np.float64) for i in range(101)])\n",
    "plt.title(\"Pib Numbers Error (Absolute Difference)\")\n",
    "plt.yscale('log')\n",
    "plt.xlabel('n')\n",
    "plt.ylabel('|e|')\n",
    "plt.plot(x, f, label='float32')\n",
    "plt.plot(x, d, label='float64')\n",
    "plt.legend()\n",
    "\n",
    "for arr, t in [(f, 'float32'), (d, 'float64')]:\n",
    "    for i, elem in enumerate(arr):\n",
    "        if elem >= 1:\n",
    "            print(\"No accuracy on %s starting from n=%d\" % (t, i))\n",
    "            break"
   ]
  },
  {
   "cell_type": "code",
   "execution_count": 24,
   "metadata": {},
   "outputs": [
    {
     "data": {
      "text/latex": [
       "Part C Continued.\n",
       "\n",
       "As seen from parts B and C, the Fibonacci numbers lose no accuracy for a protracted period of time \n",
       "(longer for double precision than single precision) and then lose pretty much all accuracy all at once. \n",
       "On the other hand, the pib numbers lose accuracy almost immediately, but at a much more gradual and steady rate.\n",
       "\n",
       "\n",
       "We would expect the pib behavior to be more typical. Although we are using floating point types in the Fibonacci\n",
       "sequence, all of the numbers are floating point representations of integers. This is an uncommon occurrence in \n",
       "scientific computing -- if all values can be expected to be integers, we would use an integer type and get rid \n",
       "of all imprecision. The pib numbers are more typical in that they include actual non-integer values. Error \n",
       "propagation is thus more likely to follow that pattern."
      ],
      "text/plain": [
       "<IPython.core.display.Latex object>"
      ]
     },
     "metadata": {},
     "output_type": "display_data"
    }
   ],
   "source": [
    "%%latex\n",
    "Part C Continued.\n",
    "\n",
    "\n",
    "As seen from parts B and C, the Fibonacci numbers lose no accuracy for a protracted period of time \n",
    "(longer for double precision than single precision) and then lose pretty much all accuracy all at once. \n",
    "On the other hand, the pib numbers lose accuracy almost immediately, but at a much more gradual and steady rate.\n",
    "\n",
    "\n",
    "We would expect the pib behavior to be more typical. Although we are using floating point types in the Fibonacci\n",
    "sequence, all of the numbers are floating point representations of integers. This is an uncommon occurrence in \n",
    "scientific computing -- if all values can be expected to be integers, we would use an integer type and get rid \n",
    "of all imprecision. The pib numbers are more typical in that they include actual non-integer values. Error \n",
    "propagation is thus more likely to follow that pattern."
   ]
  },
  {
   "cell_type": "code",
   "execution_count": null,
   "metadata": {},
   "outputs": [],
   "source": []
  }
 ],
 "metadata": {
  "kernelspec": {
   "display_name": "Python 3",
   "language": "python",
   "name": "python3"
  },
  "language_info": {
   "codemirror_mode": {
    "name": "ipython",
    "version": 3
   },
   "file_extension": ".py",
   "mimetype": "text/x-python",
   "name": "python",
   "nbconvert_exporter": "python",
   "pygments_lexer": "ipython3",
   "version": "3.5.2"
  }
 },
 "nbformat": 4,
 "nbformat_minor": 2
}
