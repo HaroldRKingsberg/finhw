{
 "cells": [
  {
   "cell_type": "markdown",
   "metadata": {},
   "source": [
    "# Homework Set 8"
   ]
  },
  {
   "cell_type": "code",
   "execution_count": 1,
   "metadata": {},
   "outputs": [
    {
     "name": "stdout",
     "output_type": "stream",
     "text": [
      "Populating the interactive namespace from numpy and matplotlib\n"
     ]
    }
   ],
   "source": [
    "%pylab inline"
   ]
  },
  {
   "cell_type": "markdown",
   "metadata": {},
   "source": [
    "## Problem 1:\n",
    "\n",
    "Prove the statement:\n",
    "\n",
    "* If $\\mathbf{x}^*$ is a solution to the original optimization problem (**Primal Problem**), then for $\\forall \\mathbf{\\lambda} \\succeq 0$ and any $\\mathbf{\\mu}$,\n",
    "\n",
    "$$\n",
    "\\hat{f}(\\mathbf{\\mu}, \\mathbf{\\lambda}) \\leq f(\\mathbf{x}^*).\n",
    "$$\n",
    "     \n",
    "   "
   ]
  },
  {
   "cell_type": "markdown",
   "metadata": {},
   "source": [
    "### Solution"
   ]
  },
  {
   "cell_type": "markdown",
   "metadata": {},
   "source": [
    "## Problem 2\n",
    "\n",
    "Derive the dual problem for the portfolio optimization problem:\n",
    "\n",
    "\n",
    "\\begin{aligned}\n",
    "\\min_{\\mathbf{x}} \\;\\; \\frac{1}{2} \\lambda\\; \\mathbf{x}^T \\Sigma \\mathbf{x} &- \\mu^T \\mathbf{x}\n",
    "\\\\\n",
    "s.t. \\;\\;\\sum_i x_i &= 1\n",
    "\\end{aligned}\n",
    "\n",
    "where $\\lambda$ is the risk-aversion coefficient, $\\mu$ is the expected asset return vector and $\\Sigma$ is the covariance matrix. \n",
    "\n"
   ]
  },
  {
   "cell_type": "markdown",
   "metadata": {},
   "source": [
    "### Solution\n",
    "We have currently put this in matrix form. Let us assume $\\mathbf{x}$ is of dimensionality $n$. In such a case, the function we are looking to minimize is \n",
    "\n",
    "\n",
    "\\begin{aligned}\n",
    "\\frac{\\lambda}{2}\\left(\\sum_{i=1}^n \\left(x_i^2\\sigma_i^2\\right) + 2\\sum_{i=1}^{n-1}\\sum_{j=i+1}^n\\left(x_ix_j\\sigma_{ij}\\right) - \\sum_{i=1}^n \\left(\\mu_i x_i\\right) \\right)\n",
    "\\end{aligned}\n",
    "\n",
    "Our constraint can be written as\n",
    "\n",
    "\\begin{aligned}\n",
    "\\sum_{i=1}^n \\left(x_i\\right) - 1 = 0\n",
    "\\end{aligned}\n",
    "\n",
    "If we use $\\xi$ as our Lagrange multiplier (to avoid the confusion of using the more traditional $\\lambda$), then our Lagrangian expression is:\n",
    "\n",
    "\\begin{aligned}\n",
    "\\mathscr{L}\\left(\\mathbf{x}, \\xi\\right) = \\frac{\\lambda}{2}\\left(\\sum_{i=1}^n \\left(x_i^2\\sigma_i^2\\right) + 2\\sum_{i=1}^{n-1}\\sum_{j=i+1}^n\\left(x_ix_j\\sigma_{ij}\\right) - \\sum_{i=1}^n \\left(\\mu_i x_i\\right) \\right) - \\xi - \\xi\\sum_{i=1}^n \\left(x_i\\right)\n",
    "\\end{aligned}\n",
    "\n",
    "The dual function is therefore:\n",
    "\n",
    "\\begin{aligned}\n",
    "\\Theta\\left(\\xi\\right) = \\inf_{\\sum \\mathbf{x} = 1} \\frac{\\lambda}{2}\\left(\\sum_{i=1}^n \\left(x_i^2\\sigma_i^2\\right) + 2\\sum_{i=1}^{n-1}\\sum_{j=i+1}^n\\left(x_ix_j\\sigma_{ij}\\right) - \\sum_{i=1}^n \\left(\\mu_i x_i\\right) \\right) - \\xi - \\xi\\sum_{i=1}^n \\left(x_i\\right)\n",
    "\\end{aligned}\n",
    "\n",
    "Which gives us the problem to solve of:\n",
    "\n",
    "\\begin{aligned}\n",
    "\\max_{\\xi \\geq 0} \\left[ \\inf_{\\sum \\mathbf{x} = 1} \\frac{\\lambda}{2}\\left(\\sum_{i=1}^n \\left(x_i^2\\sigma_i^2\\right) + 2\\sum_{i=1}^{n-1}\\sum_{j=i+1}^n\\left(x_ix_j\\sigma_{ij}\\right) - \\sum_{i=1}^n \\left(\\mu_i x_i\\right) \\right) - \\xi - \\xi\\sum_{i=1}^n \\left(x_i\\right) \\right]\n",
    "\\end{aligned}"
   ]
  },
  {
   "cell_type": "markdown",
   "metadata": {},
   "source": [
    "## Problem 3\n",
    "\n",
    "\n",
    "Similar to our example in class, here is the table of future liabilities (in $millions):\n",
    "\n",
    "|  Years | 1 | 2 | 3 | 4 | 5 | 6 | 7 | 8 | 9 |\n",
    "| :-----: | :----: | :----: | :----: | :----: | :----: | :----: | :----: | :----: | :----: |\n",
    "|  Benefits($millions) | 24 | 26 | 28 | 28 | 26 | 29 | 32 | 33 | 34 |\n",
    "\n",
    "\n",
    "And here is the set of bonds that can be invested in:\n",
    "\n",
    "|  Bonds | 1 | 2 | 3 | 4 | 5 | 6 | 7 | 8 | 9 | 10 | 11 | 12 |\n",
    "| :-----: | :----: | :----: | :----: | :----: | :----: | :----: | :----: | :----: | :----: | :----: | :----: | :----: |\n",
    "|  Price | 102 | 101.625 | 103 | 102 | 102 | 103 | 101 | 101.5 | 102 | 102.75 | 103 | 104 |\n",
    "|  Coupon(%) | 1.25 | 1.5 | 2.5 | 1.75 | 2.125 | 2.5 | 2.625 | 3 | 3.125 | 3.5 |  3.75 | 4.5 |\n",
    "|  Maturity(Years) | 1 | 2 | 2 | 3 | 4 | 5 | 5 | 6 | 7 | 8 |  8 | 9 |\n",
    "\n",
    "\n",
    "Consider two excess cash scenarios: 1) not reused at each period. 2) reinvested at 1% interest rate and reused. \n",
    "Find the **least cost** portfolio of bonds so that the pension fund can meet its future liabilities. Please show your LP problem set up.\n"
   ]
  },
  {
   "cell_type": "markdown",
   "metadata": {},
   "source": [
    "### Solution\n",
    "\n",
    "The ALM problem comes out as \n",
    "\n",
    "\\begin{aligned}\n",
    "\\min \\sum_{i=1}^n x_i P_i\n",
    "\\end{aligned}\n",
    "\n",
    "This presupposes $n$ number of instruments. $x_i$ is the amount of each security we will purchase. $P_i$ is the price of the security. It is subject to the following constraints\n",
    "\n",
    "\\begin{aligned}\n",
    "-x_i \\leq 0\n",
    "\\end{aligned}\n",
    "\n",
    "\\begin{aligned}\n",
    "L\\left(t\\right) - \\sum_{i=1}^n x_i C_i\\left(t\\right) \\leq 0\n",
    "\\end{aligned}\n",
    "\n",
    "$L\\left(t\\right)$ will be the liabilities at time $t$ and $C_i\\left(t\\right)$ will be the cashflow from security $i$ at time $t$.\n",
    "\n",
    "We therefore, in this problem, have 21 constraints -- 12 from the necessity of all purchased amounts being greater than zero, and 9 from the requirement that the liabilities all be paid off."
   ]
  },
  {
   "cell_type": "markdown",
   "metadata": {},
   "source": [
    "#### Scenario 1\n",
    "The simplest excess cash scenario is to ignore the excess cash from any liability payout gets ignored. We're assuming annual coupon payouts here for the $n=12$ bonds over the time period where $T \\leq t$, $T=9$\n",
    "\n",
    "Thus, the second constraint from above can be written as\n",
    "\n",
    "\\begin{aligned}\n",
    "L\\left(t\\right) - Fx_t - \\sum_{i=t}^n x_i c_i \\leq 0\n",
    "\\end{aligned}\n",
    "\n",
    "Where $F$ is the face value of the bond, $x_t$ is the quantity of bond $t$ purchased and $c_i$ is the coupon value paid out by bond $i$."
   ]
  },
  {
   "cell_type": "markdown",
   "metadata": {},
   "source": [
    "#### Scenario 2\n",
    "Our second scenario is that the excess is reinvested at 1%. This is a bit tougher, so let us define $D\\left(t\\right) \\equiv L\\left(t\\right) - \\sum x_iC_i\\left(t\\right)$\n",
    "\n",
    "In such a case, we know\n",
    "\n",
    "\\begin{aligned}\n",
    "D\\left(t\\right) \\leq 0\n",
    "\\end{aligned}\n",
    "\n",
    "In such a case, $D\\left(t\\right)$ needs to be defined:\n",
    "\n",
    "\\begin{aligned}\n",
    "D\\left(1\\right) = L\\left(1\\right) - \\sum_{i=1}^n x_ic_i - Fx_1\n",
    "\\end{aligned}\n",
    "\n",
    "\\begin{aligned}\n",
    "D\\left(t\\right) = L\\left(t\\right) - \\sum_{i=t}^n x_ic_i - Fx_t + 1.01\\times D\\left(t-1\\right)\n",
    "\\end{aligned}"
   ]
  },
  {
   "cell_type": "code",
   "execution_count": null,
   "metadata": {},
   "outputs": [],
   "source": []
  }
 ],
 "metadata": {
  "kernelspec": {
   "display_name": "Python 3",
   "language": "python",
   "name": "python3"
  },
  "language_info": {
   "codemirror_mode": {
    "name": "ipython",
    "version": 3
   },
   "file_extension": ".py",
   "mimetype": "text/x-python",
   "name": "python",
   "nbconvert_exporter": "python",
   "pygments_lexer": "ipython3",
   "version": "3.6.3"
  }
 },
 "nbformat": 4,
 "nbformat_minor": 1
}
